{
 "cells": [
  {
   "cell_type": "code",
   "execution_count": 1,
   "id": "24469e75",
   "metadata": {},
   "outputs": [],
   "source": [
    "import pandas as pd\n",
    "import numpy as np\n",
    "import sklearn as sklearn\n",
    "import matplotlib.pyplot as plt\n",
    "import seaborn as sns\n",
    "\n",
    "sns.set()"
   ]
  },
  {
   "cell_type": "code",
   "execution_count": 2,
   "id": "f44258b2",
   "metadata": {},
   "outputs": [],
   "source": [
    "df=pd.read_csv(\"Jewelry_Dataset.csv\")"
   ]
  },
  {
   "cell_type": "code",
   "execution_count": 4,
   "id": "3c9204f7",
   "metadata": {},
   "outputs": [],
   "source": [
    "from sklearn.neighbors import LocalOutlierFactor\n",
    "SEED = np.random.seed(seed = 2023)"
   ]
  },
  {
   "cell_type": "code",
   "execution_count": 5,
   "id": "54cb01e8",
   "metadata": {},
   "outputs": [
    {
     "data": {
      "text/html": [
       "<div>\n",
       "<style scoped>\n",
       "    .dataframe tbody tr th:only-of-type {\n",
       "        vertical-align: middle;\n",
       "    }\n",
       "\n",
       "    .dataframe tbody tr th {\n",
       "        vertical-align: top;\n",
       "    }\n",
       "\n",
       "    .dataframe thead th {\n",
       "        text-align: right;\n",
       "    }\n",
       "</style>\n",
       "<table border=\"1\" class=\"dataframe\">\n",
       "  <thead>\n",
       "    <tr style=\"text-align: right;\">\n",
       "      <th></th>\n",
       "      <th>2018-12-01 11:40:29 UTC</th>\n",
       "      <th>1924719191579951782</th>\n",
       "      <th>1842195256808833386</th>\n",
       "      <th>1</th>\n",
       "      <th>1806829201890738522</th>\n",
       "      <th>jewelry.earring</th>\n",
       "      <th>0</th>\n",
       "      <th>561.51</th>\n",
       "      <th>1515915625207851155</th>\n",
       "      <th>Unnamed: 9</th>\n",
       "      <th>red</th>\n",
       "      <th>gold</th>\n",
       "      <th>diamond</th>\n",
       "    </tr>\n",
       "  </thead>\n",
       "  <tbody>\n",
       "    <tr>\n",
       "      <th>0</th>\n",
       "      <td>2018-12-01 17:38:31 UTC</td>\n",
       "      <td>1924899396621697920</td>\n",
       "      <td>1806829193678291446</td>\n",
       "      <td>1</td>\n",
       "      <td>1.806829e+18</td>\n",
       "      <td>NaN</td>\n",
       "      <td>NaN</td>\n",
       "      <td>212.14</td>\n",
       "      <td>1.515916e+18</td>\n",
       "      <td>NaN</td>\n",
       "      <td>yellow</td>\n",
       "      <td>gold</td>\n",
       "      <td>NaN</td>\n",
       "    </tr>\n",
       "    <tr>\n",
       "      <th>1</th>\n",
       "      <td>2018-12-02 13:53:42 UTC</td>\n",
       "      <td>1925511016616034733</td>\n",
       "      <td>1842214461889315556</td>\n",
       "      <td>1</td>\n",
       "      <td>1.806829e+18</td>\n",
       "      <td>jewelry.pendant</td>\n",
       "      <td>1.000000e+00</td>\n",
       "      <td>54.66</td>\n",
       "      <td>1.515916e+18</td>\n",
       "      <td>f</td>\n",
       "      <td>white</td>\n",
       "      <td>gold</td>\n",
       "      <td>sapphire</td>\n",
       "    </tr>\n",
       "    <tr>\n",
       "      <th>2</th>\n",
       "      <td>2018-12-02 17:44:02 UTC</td>\n",
       "      <td>1925626951238681511</td>\n",
       "      <td>1835566849434059453</td>\n",
       "      <td>1</td>\n",
       "      <td>1.806829e+18</td>\n",
       "      <td>jewelry.pendant</td>\n",
       "      <td>0.000000e+00</td>\n",
       "      <td>88.90</td>\n",
       "      <td>1.515916e+18</td>\n",
       "      <td>f</td>\n",
       "      <td>red</td>\n",
       "      <td>gold</td>\n",
       "      <td>diamond</td>\n",
       "    </tr>\n",
       "    <tr>\n",
       "      <th>3</th>\n",
       "      <td>2018-12-02 21:30:19 UTC</td>\n",
       "      <td>1925740842841014667</td>\n",
       "      <td>1873936840742928865</td>\n",
       "      <td>1</td>\n",
       "      <td>1.806829e+18</td>\n",
       "      <td>jewelry.necklace</td>\n",
       "      <td>0.000000e+00</td>\n",
       "      <td>417.67</td>\n",
       "      <td>1.515916e+18</td>\n",
       "      <td>NaN</td>\n",
       "      <td>red</td>\n",
       "      <td>gold</td>\n",
       "      <td>amethyst</td>\n",
       "    </tr>\n",
       "    <tr>\n",
       "      <th>4</th>\n",
       "      <td>2018-12-02 22:09:34 UTC</td>\n",
       "      <td>1925760595336888995</td>\n",
       "      <td>1835566854827934449</td>\n",
       "      <td>1</td>\n",
       "      <td>1.806829e+18</td>\n",
       "      <td>jewelry.earring</td>\n",
       "      <td>1.000000e+00</td>\n",
       "      <td>102.27</td>\n",
       "      <td>1.515916e+18</td>\n",
       "      <td>NaN</td>\n",
       "      <td>red</td>\n",
       "      <td>gold</td>\n",
       "      <td>NaN</td>\n",
       "    </tr>\n",
       "    <tr>\n",
       "      <th>...</th>\n",
       "      <td>...</td>\n",
       "      <td>...</td>\n",
       "      <td>...</td>\n",
       "      <td>...</td>\n",
       "      <td>...</td>\n",
       "      <td>...</td>\n",
       "      <td>...</td>\n",
       "      <td>...</td>\n",
       "      <td>...</td>\n",
       "      <td>...</td>\n",
       "      <td>...</td>\n",
       "      <td>...</td>\n",
       "      <td>...</td>\n",
       "    </tr>\n",
       "    <tr>\n",
       "      <th>95905</th>\n",
       "      <td>2021-12-01 09:47:37 UTC</td>\n",
       "      <td>2719016587653808559</td>\n",
       "      <td>1515966223597820877</td>\n",
       "      <td>1</td>\n",
       "      <td>NaN</td>\n",
       "      <td>0.00</td>\n",
       "      <td>1.515916e+18</td>\n",
       "      <td>NaN</td>\n",
       "      <td>NaN</td>\n",
       "      <td>NaN</td>\n",
       "      <td>NaN</td>\n",
       "      <td>NaN</td>\n",
       "      <td>NaN</td>\n",
       "    </tr>\n",
       "    <tr>\n",
       "      <th>95906</th>\n",
       "      <td>2021-12-01 09:50:37 UTC</td>\n",
       "      <td>2719018098886705639</td>\n",
       "      <td>1956663830729720074</td>\n",
       "      <td>1</td>\n",
       "      <td>1.806829e+18</td>\n",
       "      <td>NaN</td>\n",
       "      <td>0.000000e+00</td>\n",
       "      <td>229.99</td>\n",
       "      <td>1.515916e+18</td>\n",
       "      <td>NaN</td>\n",
       "      <td>red</td>\n",
       "      <td>gold</td>\n",
       "      <td>NaN</td>\n",
       "    </tr>\n",
       "    <tr>\n",
       "      <th>95907</th>\n",
       "      <td>2021-12-01 09:52:06 UTC</td>\n",
       "      <td>2719018846999544322</td>\n",
       "      <td>1956663848219968336</td>\n",
       "      <td>1</td>\n",
       "      <td>1.806829e+18</td>\n",
       "      <td>jewelry.earring</td>\n",
       "      <td>1.000000e+00</td>\n",
       "      <td>630.00</td>\n",
       "      <td>1.515916e+18</td>\n",
       "      <td>f</td>\n",
       "      <td>white</td>\n",
       "      <td>gold</td>\n",
       "      <td>diamond</td>\n",
       "    </tr>\n",
       "    <tr>\n",
       "      <th>95908</th>\n",
       "      <td>2021-12-01 09:55:35 UTC</td>\n",
       "      <td>2719020596963836492</td>\n",
       "      <td>1835566854106513435</td>\n",
       "      <td>1</td>\n",
       "      <td>1.806829e+18</td>\n",
       "      <td>jewelry.earring</td>\n",
       "      <td>0.000000e+00</td>\n",
       "      <td>83.42</td>\n",
       "      <td>1.515916e+18</td>\n",
       "      <td>NaN</td>\n",
       "      <td>white</td>\n",
       "      <td>gold</td>\n",
       "      <td>fianit</td>\n",
       "    </tr>\n",
       "    <tr>\n",
       "      <th>95909</th>\n",
       "      <td>2021-12-01 09:59:07 UTC</td>\n",
       "      <td>2719022379232658075</td>\n",
       "      <td>1956663846156370429</td>\n",
       "      <td>1</td>\n",
       "      <td>1.806829e+18</td>\n",
       "      <td>jewelry.pendant</td>\n",
       "      <td>1.000000e+00</td>\n",
       "      <td>97.12</td>\n",
       "      <td>1.515916e+18</td>\n",
       "      <td>NaN</td>\n",
       "      <td>red</td>\n",
       "      <td>gold</td>\n",
       "      <td>NaN</td>\n",
       "    </tr>\n",
       "  </tbody>\n",
       "</table>\n",
       "<p>95910 rows × 13 columns</p>\n",
       "</div>"
      ],
      "text/plain": [
       "       2018-12-01 11:40:29 UTC  1924719191579951782  1842195256808833386  1  \\\n",
       "0      2018-12-01 17:38:31 UTC  1924899396621697920  1806829193678291446  1   \n",
       "1      2018-12-02 13:53:42 UTC  1925511016616034733  1842214461889315556  1   \n",
       "2      2018-12-02 17:44:02 UTC  1925626951238681511  1835566849434059453  1   \n",
       "3      2018-12-02 21:30:19 UTC  1925740842841014667  1873936840742928865  1   \n",
       "4      2018-12-02 22:09:34 UTC  1925760595336888995  1835566854827934449  1   \n",
       "...                        ...                  ...                  ... ..   \n",
       "95905  2021-12-01 09:47:37 UTC  2719016587653808559  1515966223597820877  1   \n",
       "95906  2021-12-01 09:50:37 UTC  2719018098886705639  1956663830729720074  1   \n",
       "95907  2021-12-01 09:52:06 UTC  2719018846999544322  1956663848219968336  1   \n",
       "95908  2021-12-01 09:55:35 UTC  2719020596963836492  1835566854106513435  1   \n",
       "95909  2021-12-01 09:59:07 UTC  2719022379232658075  1956663846156370429  1   \n",
       "\n",
       "       1806829201890738522   jewelry.earring             0  561.51  \\\n",
       "0             1.806829e+18               NaN           NaN  212.14   \n",
       "1             1.806829e+18   jewelry.pendant  1.000000e+00   54.66   \n",
       "2             1.806829e+18   jewelry.pendant  0.000000e+00   88.90   \n",
       "3             1.806829e+18  jewelry.necklace  0.000000e+00  417.67   \n",
       "4             1.806829e+18   jewelry.earring  1.000000e+00  102.27   \n",
       "...                    ...               ...           ...     ...   \n",
       "95905                  NaN              0.00  1.515916e+18     NaN   \n",
       "95906         1.806829e+18               NaN  0.000000e+00  229.99   \n",
       "95907         1.806829e+18   jewelry.earring  1.000000e+00  630.00   \n",
       "95908         1.806829e+18   jewelry.earring  0.000000e+00   83.42   \n",
       "95909         1.806829e+18   jewelry.pendant  1.000000e+00   97.12   \n",
       "\n",
       "       1515915625207851155 Unnamed: 9     red  gold   diamond  \n",
       "0             1.515916e+18        NaN  yellow  gold       NaN  \n",
       "1             1.515916e+18          f   white  gold  sapphire  \n",
       "2             1.515916e+18          f     red  gold   diamond  \n",
       "3             1.515916e+18        NaN     red  gold  amethyst  \n",
       "4             1.515916e+18        NaN     red  gold       NaN  \n",
       "...                    ...        ...     ...   ...       ...  \n",
       "95905                  NaN        NaN     NaN   NaN       NaN  \n",
       "95906         1.515916e+18        NaN     red  gold       NaN  \n",
       "95907         1.515916e+18          f   white  gold   diamond  \n",
       "95908         1.515916e+18        NaN   white  gold    fianit  \n",
       "95909         1.515916e+18        NaN     red  gold       NaN  \n",
       "\n",
       "[95910 rows x 13 columns]"
      ]
     },
     "execution_count": 5,
     "metadata": {},
     "output_type": "execute_result"
    }
   ],
   "source": [
    "df"
   ]
  },
  {
   "cell_type": "code",
   "execution_count": 6,
   "id": "810d6d63",
   "metadata": {},
   "outputs": [
    {
     "data": {
      "text/html": [
       "<div>\n",
       "<style scoped>\n",
       "    .dataframe tbody tr th:only-of-type {\n",
       "        vertical-align: middle;\n",
       "    }\n",
       "\n",
       "    .dataframe tbody tr th {\n",
       "        vertical-align: top;\n",
       "    }\n",
       "\n",
       "    .dataframe thead th {\n",
       "        text-align: right;\n",
       "    }\n",
       "</style>\n",
       "<table border=\"1\" class=\"dataframe\">\n",
       "  <thead>\n",
       "    <tr style=\"text-align: right;\">\n",
       "      <th></th>\n",
       "      <th>2018-12-01 11:40:29 UTC</th>\n",
       "      <th>1924719191579951782</th>\n",
       "      <th>1842195256808833386</th>\n",
       "      <th>1</th>\n",
       "      <th>1806829201890738522</th>\n",
       "      <th>jewelry.earring</th>\n",
       "      <th>0</th>\n",
       "      <th>561.51</th>\n",
       "      <th>1515915625207851155</th>\n",
       "      <th>Unnamed: 9</th>\n",
       "      <th>red</th>\n",
       "      <th>gold</th>\n",
       "      <th>diamond</th>\n",
       "    </tr>\n",
       "  </thead>\n",
       "  <tbody>\n",
       "    <tr>\n",
       "      <th>0</th>\n",
       "      <td>2018-12-01 17:38:31 UTC</td>\n",
       "      <td>1924899396621697920</td>\n",
       "      <td>1806829193678291446</td>\n",
       "      <td>1</td>\n",
       "      <td>1.806829e+18</td>\n",
       "      <td>NaN</td>\n",
       "      <td>NaN</td>\n",
       "      <td>212.14</td>\n",
       "      <td>1.515916e+18</td>\n",
       "      <td>NaN</td>\n",
       "      <td>yellow</td>\n",
       "      <td>gold</td>\n",
       "      <td>NaN</td>\n",
       "    </tr>\n",
       "    <tr>\n",
       "      <th>1</th>\n",
       "      <td>2018-12-02 13:53:42 UTC</td>\n",
       "      <td>1925511016616034733</td>\n",
       "      <td>1842214461889315556</td>\n",
       "      <td>1</td>\n",
       "      <td>1.806829e+18</td>\n",
       "      <td>jewelry.pendant</td>\n",
       "      <td>1.0</td>\n",
       "      <td>54.66</td>\n",
       "      <td>1.515916e+18</td>\n",
       "      <td>f</td>\n",
       "      <td>white</td>\n",
       "      <td>gold</td>\n",
       "      <td>sapphire</td>\n",
       "    </tr>\n",
       "    <tr>\n",
       "      <th>2</th>\n",
       "      <td>2018-12-02 17:44:02 UTC</td>\n",
       "      <td>1925626951238681511</td>\n",
       "      <td>1835566849434059453</td>\n",
       "      <td>1</td>\n",
       "      <td>1.806829e+18</td>\n",
       "      <td>jewelry.pendant</td>\n",
       "      <td>0.0</td>\n",
       "      <td>88.90</td>\n",
       "      <td>1.515916e+18</td>\n",
       "      <td>f</td>\n",
       "      <td>red</td>\n",
       "      <td>gold</td>\n",
       "      <td>diamond</td>\n",
       "    </tr>\n",
       "    <tr>\n",
       "      <th>3</th>\n",
       "      <td>2018-12-02 21:30:19 UTC</td>\n",
       "      <td>1925740842841014667</td>\n",
       "      <td>1873936840742928865</td>\n",
       "      <td>1</td>\n",
       "      <td>1.806829e+18</td>\n",
       "      <td>jewelry.necklace</td>\n",
       "      <td>0.0</td>\n",
       "      <td>417.67</td>\n",
       "      <td>1.515916e+18</td>\n",
       "      <td>NaN</td>\n",
       "      <td>red</td>\n",
       "      <td>gold</td>\n",
       "      <td>amethyst</td>\n",
       "    </tr>\n",
       "    <tr>\n",
       "      <th>4</th>\n",
       "      <td>2018-12-02 22:09:34 UTC</td>\n",
       "      <td>1925760595336888995</td>\n",
       "      <td>1835566854827934449</td>\n",
       "      <td>1</td>\n",
       "      <td>1.806829e+18</td>\n",
       "      <td>jewelry.earring</td>\n",
       "      <td>1.0</td>\n",
       "      <td>102.27</td>\n",
       "      <td>1.515916e+18</td>\n",
       "      <td>NaN</td>\n",
       "      <td>red</td>\n",
       "      <td>gold</td>\n",
       "      <td>NaN</td>\n",
       "    </tr>\n",
       "  </tbody>\n",
       "</table>\n",
       "</div>"
      ],
      "text/plain": [
       "   2018-12-01 11:40:29 UTC  1924719191579951782  1842195256808833386  1  \\\n",
       "0  2018-12-01 17:38:31 UTC  1924899396621697920  1806829193678291446  1   \n",
       "1  2018-12-02 13:53:42 UTC  1925511016616034733  1842214461889315556  1   \n",
       "2  2018-12-02 17:44:02 UTC  1925626951238681511  1835566849434059453  1   \n",
       "3  2018-12-02 21:30:19 UTC  1925740842841014667  1873936840742928865  1   \n",
       "4  2018-12-02 22:09:34 UTC  1925760595336888995  1835566854827934449  1   \n",
       "\n",
       "   1806829201890738522   jewelry.earring    0  561.51  1515915625207851155  \\\n",
       "0         1.806829e+18               NaN  NaN  212.14         1.515916e+18   \n",
       "1         1.806829e+18   jewelry.pendant  1.0   54.66         1.515916e+18   \n",
       "2         1.806829e+18   jewelry.pendant  0.0   88.90         1.515916e+18   \n",
       "3         1.806829e+18  jewelry.necklace  0.0  417.67         1.515916e+18   \n",
       "4         1.806829e+18   jewelry.earring  1.0  102.27         1.515916e+18   \n",
       "\n",
       "  Unnamed: 9     red  gold   diamond  \n",
       "0        NaN  yellow  gold       NaN  \n",
       "1          f   white  gold  sapphire  \n",
       "2          f     red  gold   diamond  \n",
       "3        NaN     red  gold  amethyst  \n",
       "4        NaN     red  gold       NaN  "
      ]
     },
     "execution_count": 6,
     "metadata": {},
     "output_type": "execute_result"
    }
   ],
   "source": [
    "df.head()"
   ]
  },
  {
   "cell_type": "code",
   "execution_count": 8,
   "id": "f2785507",
   "metadata": {},
   "outputs": [
    {
     "data": {
      "text/plain": [
       "(95910, 13)"
      ]
     },
     "execution_count": 8,
     "metadata": {},
     "output_type": "execute_result"
    }
   ],
   "source": [
    "df.shape"
   ]
  },
  {
   "cell_type": "code",
   "execution_count": 10,
   "id": "c0d1b89d",
   "metadata": {},
   "outputs": [
    {
     "data": {
      "text/plain": [
       "2018-12-01 11:40:29 UTC    74504\n",
       "1924719191579951782        74759\n",
       "1842195256808833386         9613\n",
       "1                              1\n",
       "1806829201890738522           25\n",
       "jewelry.earring              218\n",
       "0                           2537\n",
       "561.51                      3166\n",
       "1515915625207851155        31079\n",
       "Unnamed: 9                     2\n",
       "red                            5\n",
       "gold                           3\n",
       "diamond                       30\n",
       "dtype: int64"
      ]
     },
     "execution_count": 10,
     "metadata": {},
     "output_type": "execute_result"
    }
   ],
   "source": [
    "# Feature cardinality\n",
    "df.nunique()"
   ]
  },
  {
   "cell_type": "code",
   "execution_count": 11,
   "id": "ffe6a3dd",
   "metadata": {},
   "outputs": [
    {
     "data": {
      "text/html": [
       "<div>\n",
       "<style scoped>\n",
       "    .dataframe tbody tr th:only-of-type {\n",
       "        vertical-align: middle;\n",
       "    }\n",
       "\n",
       "    .dataframe tbody tr th {\n",
       "        vertical-align: top;\n",
       "    }\n",
       "\n",
       "    .dataframe thead th {\n",
       "        text-align: right;\n",
       "    }\n",
       "</style>\n",
       "<table border=\"1\" class=\"dataframe\">\n",
       "  <thead>\n",
       "    <tr style=\"text-align: right;\">\n",
       "      <th></th>\n",
       "      <th>2018-12-01 11:40:29 UTC</th>\n",
       "      <th>1924719191579951782</th>\n",
       "      <th>1842195256808833386</th>\n",
       "      <th>1</th>\n",
       "      <th>1806829201890738522</th>\n",
       "      <th>jewelry.earring</th>\n",
       "      <th>0</th>\n",
       "      <th>561.51</th>\n",
       "      <th>1515915625207851155</th>\n",
       "      <th>Unnamed: 9</th>\n",
       "      <th>red</th>\n",
       "      <th>gold</th>\n",
       "      <th>diamond</th>\n",
       "    </tr>\n",
       "  </thead>\n",
       "  <tbody>\n",
       "    <tr>\n",
       "      <th>count</th>\n",
       "      <td>95910</td>\n",
       "      <td>9.591000e+04</td>\n",
       "      <td>9.591000e+04</td>\n",
       "      <td>95910.0</td>\n",
       "      <td>9.055800e+04</td>\n",
       "      <td>85977</td>\n",
       "      <td>9.112500e+04</td>\n",
       "      <td>90558.000000</td>\n",
       "      <td>9.055800e+04</td>\n",
       "      <td>47743</td>\n",
       "      <td>88250</td>\n",
       "      <td>90448</td>\n",
       "      <td>61852</td>\n",
       "    </tr>\n",
       "    <tr>\n",
       "      <th>unique</th>\n",
       "      <td>74504</td>\n",
       "      <td>NaN</td>\n",
       "      <td>NaN</td>\n",
       "      <td>NaN</td>\n",
       "      <td>NaN</td>\n",
       "      <td>218</td>\n",
       "      <td>NaN</td>\n",
       "      <td>NaN</td>\n",
       "      <td>NaN</td>\n",
       "      <td>2</td>\n",
       "      <td>5</td>\n",
       "      <td>3</td>\n",
       "      <td>30</td>\n",
       "    </tr>\n",
       "    <tr>\n",
       "      <th>top</th>\n",
       "      <td>2020-10-17 12:58:28 UTC</td>\n",
       "      <td>NaN</td>\n",
       "      <td>NaN</td>\n",
       "      <td>NaN</td>\n",
       "      <td>NaN</td>\n",
       "      <td>jewelry.earring</td>\n",
       "      <td>NaN</td>\n",
       "      <td>NaN</td>\n",
       "      <td>NaN</td>\n",
       "      <td>f</td>\n",
       "      <td>red</td>\n",
       "      <td>gold</td>\n",
       "      <td>diamond</td>\n",
       "    </tr>\n",
       "    <tr>\n",
       "      <th>freq</th>\n",
       "      <td>26</td>\n",
       "      <td>NaN</td>\n",
       "      <td>NaN</td>\n",
       "      <td>NaN</td>\n",
       "      <td>NaN</td>\n",
       "      <td>29051</td>\n",
       "      <td>NaN</td>\n",
       "      <td>NaN</td>\n",
       "      <td>NaN</td>\n",
       "      <td>47379</td>\n",
       "      <td>69510</td>\n",
       "      <td>89081</td>\n",
       "      <td>29609</td>\n",
       "    </tr>\n",
       "    <tr>\n",
       "      <th>mean</th>\n",
       "      <td>NaN</td>\n",
       "      <td>2.485191e+18</td>\n",
       "      <td>1.815970e+18</td>\n",
       "      <td>1.0</td>\n",
       "      <td>1.805947e+18</td>\n",
       "      <td>NaN</td>\n",
       "      <td>8.891036e+16</td>\n",
       "      <td>362.213017</td>\n",
       "      <td>1.512644e+18</td>\n",
       "      <td>NaN</td>\n",
       "      <td>NaN</td>\n",
       "      <td>NaN</td>\n",
       "      <td>NaN</td>\n",
       "    </tr>\n",
       "    <tr>\n",
       "      <th>std</th>\n",
       "      <td>NaN</td>\n",
       "      <td>1.934750e+17</td>\n",
       "      <td>2.136814e+17</td>\n",
       "      <td>0.0</td>\n",
       "      <td>2.083954e+16</td>\n",
       "      <td>NaN</td>\n",
       "      <td>3.559651e+17</td>\n",
       "      <td>444.157665</td>\n",
       "      <td>2.374776e+16</td>\n",
       "      <td>NaN</td>\n",
       "      <td>NaN</td>\n",
       "      <td>NaN</td>\n",
       "      <td>NaN</td>\n",
       "    </tr>\n",
       "    <tr>\n",
       "      <th>min</th>\n",
       "      <td>NaN</td>\n",
       "      <td>1.924899e+18</td>\n",
       "      <td>1.313551e+18</td>\n",
       "      <td>1.0</td>\n",
       "      <td>1.313678e+18</td>\n",
       "      <td>NaN</td>\n",
       "      <td>0.000000e+00</td>\n",
       "      <td>0.990000</td>\n",
       "      <td>1.313554e+18</td>\n",
       "      <td>NaN</td>\n",
       "      <td>NaN</td>\n",
       "      <td>NaN</td>\n",
       "      <td>NaN</td>\n",
       "    </tr>\n",
       "    <tr>\n",
       "      <th>25%</th>\n",
       "      <td>NaN</td>\n",
       "      <td>2.379732e+18</td>\n",
       "      <td>1.515966e+18</td>\n",
       "      <td>1.0</td>\n",
       "      <td>1.806829e+18</td>\n",
       "      <td>NaN</td>\n",
       "      <td>0.000000e+00</td>\n",
       "      <td>145.620000</td>\n",
       "      <td>1.515916e+18</td>\n",
       "      <td>NaN</td>\n",
       "      <td>NaN</td>\n",
       "      <td>NaN</td>\n",
       "      <td>NaN</td>\n",
       "    </tr>\n",
       "    <tr>\n",
       "      <th>50%</th>\n",
       "      <td>NaN</td>\n",
       "      <td>2.524282e+18</td>\n",
       "      <td>1.956664e+18</td>\n",
       "      <td>1.0</td>\n",
       "      <td>1.806829e+18</td>\n",
       "      <td>NaN</td>\n",
       "      <td>1.000000e+00</td>\n",
       "      <td>258.770000</td>\n",
       "      <td>1.515916e+18</td>\n",
       "      <td>NaN</td>\n",
       "      <td>NaN</td>\n",
       "      <td>NaN</td>\n",
       "      <td>NaN</td>\n",
       "    </tr>\n",
       "    <tr>\n",
       "      <th>75%</th>\n",
       "      <td>NaN</td>\n",
       "      <td>2.644347e+18</td>\n",
       "      <td>1.956664e+18</td>\n",
       "      <td>1.0</td>\n",
       "      <td>1.806829e+18</td>\n",
       "      <td>NaN</td>\n",
       "      <td>1.000000e+00</td>\n",
       "      <td>431.370000</td>\n",
       "      <td>1.515916e+18</td>\n",
       "      <td>NaN</td>\n",
       "      <td>NaN</td>\n",
       "      <td>NaN</td>\n",
       "      <td>NaN</td>\n",
       "    </tr>\n",
       "    <tr>\n",
       "      <th>max</th>\n",
       "      <td>NaN</td>\n",
       "      <td>2.719022e+18</td>\n",
       "      <td>2.541962e+18</td>\n",
       "      <td>1.0</td>\n",
       "      <td>1.806829e+18</td>\n",
       "      <td>NaN</td>\n",
       "      <td>1.550613e+18</td>\n",
       "      <td>34448.600000</td>\n",
       "      <td>1.554297e+18</td>\n",
       "      <td>NaN</td>\n",
       "      <td>NaN</td>\n",
       "      <td>NaN</td>\n",
       "      <td>NaN</td>\n",
       "    </tr>\n",
       "  </tbody>\n",
       "</table>\n",
       "</div>"
      ],
      "text/plain": [
       "        2018-12-01 11:40:29 UTC  1924719191579951782  1842195256808833386  \\\n",
       "count                     95910         9.591000e+04         9.591000e+04   \n",
       "unique                    74504                  NaN                  NaN   \n",
       "top     2020-10-17 12:58:28 UTC                  NaN                  NaN   \n",
       "freq                         26                  NaN                  NaN   \n",
       "mean                        NaN         2.485191e+18         1.815970e+18   \n",
       "std                         NaN         1.934750e+17         2.136814e+17   \n",
       "min                         NaN         1.924899e+18         1.313551e+18   \n",
       "25%                         NaN         2.379732e+18         1.515966e+18   \n",
       "50%                         NaN         2.524282e+18         1.956664e+18   \n",
       "75%                         NaN         2.644347e+18         1.956664e+18   \n",
       "max                         NaN         2.719022e+18         2.541962e+18   \n",
       "\n",
       "              1  1806829201890738522  jewelry.earring             0  \\\n",
       "count   95910.0         9.055800e+04            85977  9.112500e+04   \n",
       "unique      NaN                  NaN              218           NaN   \n",
       "top         NaN                  NaN  jewelry.earring           NaN   \n",
       "freq        NaN                  NaN            29051           NaN   \n",
       "mean        1.0         1.805947e+18              NaN  8.891036e+16   \n",
       "std         0.0         2.083954e+16              NaN  3.559651e+17   \n",
       "min         1.0         1.313678e+18              NaN  0.000000e+00   \n",
       "25%         1.0         1.806829e+18              NaN  0.000000e+00   \n",
       "50%         1.0         1.806829e+18              NaN  1.000000e+00   \n",
       "75%         1.0         1.806829e+18              NaN  1.000000e+00   \n",
       "max         1.0         1.806829e+18              NaN  1.550613e+18   \n",
       "\n",
       "              561.51  1515915625207851155 Unnamed: 9    red   gold  diamond  \n",
       "count   90558.000000         9.055800e+04      47743  88250  90448    61852  \n",
       "unique           NaN                  NaN          2      5      3       30  \n",
       "top              NaN                  NaN          f    red   gold  diamond  \n",
       "freq             NaN                  NaN      47379  69510  89081    29609  \n",
       "mean      362.213017         1.512644e+18        NaN    NaN    NaN      NaN  \n",
       "std       444.157665         2.374776e+16        NaN    NaN    NaN      NaN  \n",
       "min         0.990000         1.313554e+18        NaN    NaN    NaN      NaN  \n",
       "25%       145.620000         1.515916e+18        NaN    NaN    NaN      NaN  \n",
       "50%       258.770000         1.515916e+18        NaN    NaN    NaN      NaN  \n",
       "75%       431.370000         1.515916e+18        NaN    NaN    NaN      NaN  \n",
       "max     34448.600000         1.554297e+18        NaN    NaN    NaN      NaN  "
      ]
     },
     "execution_count": 11,
     "metadata": {},
     "output_type": "execute_result"
    }
   ],
   "source": [
    "# Describe data\n",
    "df.describe(include=\"all\")"
   ]
  },
  {
   "cell_type": "code",
   "execution_count": 13,
   "id": "cbb07bda",
   "metadata": {},
   "outputs": [
    {
     "data": {
      "text/plain": [
       "2018-12-01 11:40:29 UTC     0.000000\n",
       "1924719191579951782         0.000000\n",
       "1842195256808833386         0.000000\n",
       "1                           0.000000\n",
       "1806829201890738522         5.580231\n",
       "jewelry.earring            10.356584\n",
       "0                           4.989052\n",
       "561.51                      5.580231\n",
       "1515915625207851155         5.580231\n",
       "Unnamed: 9                 50.221041\n",
       "red                         7.986654\n",
       "gold                        5.694922\n",
       "diamond                    35.510374\n",
       "dtype: float64"
      ]
     },
     "execution_count": 13,
     "metadata": {},
     "output_type": "execute_result"
    }
   ],
   "source": [
    "# Check for missing values\n",
    "100 * df.isnull().sum() / len(df)"
   ]
  },
  {
   "cell_type": "code",
   "execution_count": 14,
   "id": "2f965c12",
   "metadata": {},
   "outputs": [
    {
     "data": {
      "text/plain": [
       "2018-12-01 11:40:29 UTC    74504\n",
       "1924719191579951782        74759\n",
       "1842195256808833386         9613\n",
       "1                              1\n",
       "1806829201890738522           25\n",
       "jewelry.earring              218\n",
       "0                           2537\n",
       "561.51                      3166\n",
       "1515915625207851155        31079\n",
       "Unnamed: 9                     2\n",
       "red                            5\n",
       "gold                           3\n",
       "diamond                       30\n",
       "dtype: int64"
      ]
     },
     "execution_count": 14,
     "metadata": {},
     "output_type": "execute_result"
    }
   ],
   "source": [
    "# Number of unique values per feature\n",
    "df.nunique()"
   ]
  },
  {
   "cell_type": "code",
   "execution_count": 17,
   "id": "84f59353",
   "metadata": {},
   "outputs": [],
   "source": [
    "# Get the duplicated records\n",
    "num_duplicated = len(df.loc[df.duplicated()])"
   ]
  },
  {
   "cell_type": "code",
   "execution_count": 18,
   "id": "d7cb9bbf",
   "metadata": {},
   "outputs": [
    {
     "name": "stdout",
     "output_type": "stream",
     "text": [
      "Number of duplicated records: 2589.\n"
     ]
    }
   ],
   "source": [
    "print(f\"Number of duplicated records: {num_duplicated}.\")"
   ]
  },
  {
   "cell_type": "code",
   "execution_count": 21,
   "id": "70590758",
   "metadata": {},
   "outputs": [],
   "source": [
    "# Filter away the duplicated records\n",
    "df = df.loc[~df.duplicated()]"
   ]
  },
  {
   "cell_type": "code",
   "execution_count": 24,
   "id": "bc4f2b7b",
   "metadata": {
    "scrolled": true
   },
   "outputs": [
    {
     "data": {
      "text/html": [
       "<div>\n",
       "<style scoped>\n",
       "    .dataframe tbody tr th:only-of-type {\n",
       "        vertical-align: middle;\n",
       "    }\n",
       "\n",
       "    .dataframe tbody tr th {\n",
       "        vertical-align: top;\n",
       "    }\n",
       "\n",
       "    .dataframe thead th {\n",
       "        text-align: right;\n",
       "    }\n",
       "</style>\n",
       "<table border=\"1\" class=\"dataframe\">\n",
       "  <thead>\n",
       "    <tr style=\"text-align: right;\">\n",
       "      <th></th>\n",
       "      <th>2018-12-01 11:40:29 UTC</th>\n",
       "      <th>1924719191579951782</th>\n",
       "      <th>1842195256808833386</th>\n",
       "      <th>1</th>\n",
       "      <th>1806829201890738522</th>\n",
       "      <th>jewelry.earring</th>\n",
       "      <th>0</th>\n",
       "      <th>561.51</th>\n",
       "      <th>1515915625207851155</th>\n",
       "      <th>Unnamed: 9</th>\n",
       "      <th>red</th>\n",
       "      <th>gold</th>\n",
       "      <th>diamond</th>\n",
       "    </tr>\n",
       "  </thead>\n",
       "  <tbody>\n",
       "    <tr>\n",
       "      <th>0</th>\n",
       "      <td>2018-12-01 17:38:31 UTC</td>\n",
       "      <td>1924899396621697920</td>\n",
       "      <td>1806829193678291446</td>\n",
       "      <td>1</td>\n",
       "      <td>1.806829e+18</td>\n",
       "      <td>NaN</td>\n",
       "      <td>NaN</td>\n",
       "      <td>212.14</td>\n",
       "      <td>1.515916e+18</td>\n",
       "      <td>NaN</td>\n",
       "      <td>yellow</td>\n",
       "      <td>gold</td>\n",
       "      <td>NaN</td>\n",
       "    </tr>\n",
       "    <tr>\n",
       "      <th>1</th>\n",
       "      <td>2018-12-02 13:53:42 UTC</td>\n",
       "      <td>1925511016616034733</td>\n",
       "      <td>1842214461889315556</td>\n",
       "      <td>1</td>\n",
       "      <td>1.806829e+18</td>\n",
       "      <td>jewelry.pendant</td>\n",
       "      <td>1.0</td>\n",
       "      <td>54.66</td>\n",
       "      <td>1.515916e+18</td>\n",
       "      <td>f</td>\n",
       "      <td>white</td>\n",
       "      <td>gold</td>\n",
       "      <td>sapphire</td>\n",
       "    </tr>\n",
       "    <tr>\n",
       "      <th>2</th>\n",
       "      <td>2018-12-02 17:44:02 UTC</td>\n",
       "      <td>1925626951238681511</td>\n",
       "      <td>1835566849434059453</td>\n",
       "      <td>1</td>\n",
       "      <td>1.806829e+18</td>\n",
       "      <td>jewelry.pendant</td>\n",
       "      <td>0.0</td>\n",
       "      <td>88.90</td>\n",
       "      <td>1.515916e+18</td>\n",
       "      <td>f</td>\n",
       "      <td>red</td>\n",
       "      <td>gold</td>\n",
       "      <td>diamond</td>\n",
       "    </tr>\n",
       "    <tr>\n",
       "      <th>3</th>\n",
       "      <td>2018-12-02 21:30:19 UTC</td>\n",
       "      <td>1925740842841014667</td>\n",
       "      <td>1873936840742928865</td>\n",
       "      <td>1</td>\n",
       "      <td>1.806829e+18</td>\n",
       "      <td>jewelry.necklace</td>\n",
       "      <td>0.0</td>\n",
       "      <td>417.67</td>\n",
       "      <td>1.515916e+18</td>\n",
       "      <td>NaN</td>\n",
       "      <td>red</td>\n",
       "      <td>gold</td>\n",
       "      <td>amethyst</td>\n",
       "    </tr>\n",
       "    <tr>\n",
       "      <th>4</th>\n",
       "      <td>2018-12-02 22:09:34 UTC</td>\n",
       "      <td>1925760595336888995</td>\n",
       "      <td>1835566854827934449</td>\n",
       "      <td>1</td>\n",
       "      <td>1.806829e+18</td>\n",
       "      <td>jewelry.earring</td>\n",
       "      <td>1.0</td>\n",
       "      <td>102.27</td>\n",
       "      <td>1.515916e+18</td>\n",
       "      <td>NaN</td>\n",
       "      <td>red</td>\n",
       "      <td>gold</td>\n",
       "      <td>NaN</td>\n",
       "    </tr>\n",
       "  </tbody>\n",
       "</table>\n",
       "</div>"
      ],
      "text/plain": [
       "   2018-12-01 11:40:29 UTC  1924719191579951782  1842195256808833386  1  \\\n",
       "0  2018-12-01 17:38:31 UTC  1924899396621697920  1806829193678291446  1   \n",
       "1  2018-12-02 13:53:42 UTC  1925511016616034733  1842214461889315556  1   \n",
       "2  2018-12-02 17:44:02 UTC  1925626951238681511  1835566849434059453  1   \n",
       "3  2018-12-02 21:30:19 UTC  1925740842841014667  1873936840742928865  1   \n",
       "4  2018-12-02 22:09:34 UTC  1925760595336888995  1835566854827934449  1   \n",
       "\n",
       "   1806829201890738522   jewelry.earring    0  561.51  1515915625207851155  \\\n",
       "0         1.806829e+18               NaN  NaN  212.14         1.515916e+18   \n",
       "1         1.806829e+18   jewelry.pendant  1.0   54.66         1.515916e+18   \n",
       "2         1.806829e+18   jewelry.pendant  0.0   88.90         1.515916e+18   \n",
       "3         1.806829e+18  jewelry.necklace  0.0  417.67         1.515916e+18   \n",
       "4         1.806829e+18   jewelry.earring  1.0  102.27         1.515916e+18   \n",
       "\n",
       "  Unnamed: 9     red  gold   diamond  \n",
       "0        NaN  yellow  gold       NaN  \n",
       "1          f   white  gold  sapphire  \n",
       "2          f     red  gold   diamond  \n",
       "3        NaN     red  gold  amethyst  \n",
       "4        NaN     red  gold       NaN  "
      ]
     },
     "execution_count": 24,
     "metadata": {},
     "output_type": "execute_result"
    }
   ],
   "source": [
    "df.head()"
   ]
  },
  {
   "cell_type": "code",
   "execution_count": 26,
   "id": "1f151160",
   "metadata": {},
   "outputs": [],
   "source": [
    "df.columns = [\n",
    "    \"Order_Datetime\",\n",
    "    \"Order_ID\",\n",
    "    \"Product_ID\",\n",
    "    \"SKU_Quantity\",\n",
    "    \"Category_ID\",\n",
    "    \"Category\",\n",
    "    \"Brand_ID\",\n",
    "    \"USD_Price\",\n",
    "    \"User_ID\",\n",
    "    \"Target_Gender\",\n",
    "    \"Main_Color\",\n",
    "    \"Main_Metal\",\n",
    "    \"Main_Gem\"\n",
    "]"
   ]
  },
  {
   "cell_type": "code",
   "execution_count": null,
   "id": "2d025db3",
   "metadata": {},
   "outputs": [],
   "source": []
  },
  {
   "cell_type": "code",
   "execution_count": null,
   "id": "5c92fc48",
   "metadata": {},
   "outputs": [],
   "source": []
  },
  {
   "cell_type": "code",
   "execution_count": 28,
   "id": "54ed4913",
   "metadata": {},
   "outputs": [],
   "source": [
    "### cardiality \n",
    "invariant_features =df.nunique()[df.nunique()==1].index.tolist()"
   ]
  },
  {
   "cell_type": "code",
   "execution_count": 29,
   "id": "ab263f69",
   "metadata": {},
   "outputs": [
    {
     "data": {
      "text/plain": [
       "['SKU_Quantity']"
      ]
     },
     "execution_count": 29,
     "metadata": {},
     "output_type": "execute_result"
    }
   ],
   "source": [
    "invariant_features"
   ]
  },
  {
   "cell_type": "code",
   "execution_count": 31,
   "id": "11409f38",
   "metadata": {},
   "outputs": [
    {
     "data": {
      "text/plain": [
       "18.919793378274285"
      ]
     },
     "execution_count": 31,
     "metadata": {},
     "output_type": "execute_result"
    }
   ],
   "source": [
    "## checking for label distribution\n",
    "df[\"USD_Price\"].skew()"
   ]
  },
  {
   "cell_type": "code",
   "execution_count": 32,
   "id": "9443eb79",
   "metadata": {},
   "outputs": [
    {
     "data": {
      "text/plain": [
       "1044.1569649991407"
      ]
     },
     "execution_count": 32,
     "metadata": {},
     "output_type": "execute_result"
    }
   ],
   "source": [
    "df[\"USD_Price\"].kurtosis()"
   ]
  },
  {
   "cell_type": "code",
   "execution_count": null,
   "id": "c52e4230",
   "metadata": {},
   "outputs": [],
   "source": []
  },
  {
   "cell_type": "code",
   "execution_count": 35,
   "id": "19f43aae",
   "metadata": {},
   "outputs": [
    {
     "name": "stderr",
     "output_type": "stream",
     "text": [
      "C:\\Users\\ADDIS\\anaconda3\\Lib\\site-packages\\seaborn\\_oldcore.py:1119: FutureWarning: use_inf_as_na option is deprecated and will be removed in a future version. Convert inf values to NaN before operating instead.\n",
      "  with pd.option_context('mode.use_inf_as_na', True):\n"
     ]
    },
    {
     "data": {
      "image/png": "[encoded data removed]",
      "text/plain": [
       "<Figure size 2000x500 with 1 Axes>"
      ]
     },
     "metadata": {},
     "output_type": "display_data"
    }
   ],
   "source": [
    "plt.figure(figsize=(20, 5))\n",
    "sns.kdeplot(data=df, x=\"USD_Price\")\n",
    "plt.xlabel(\"Price in Dollar\")\n",
    "plt.ylabel(\"Price Frequency\")\n",
    "plt.title(\"Distribution of Price in USD\")\n",
    "plt.tight_layout()\n",
    "plt.show()\n",
    "plt.close()"
   ]
  },
  {
   "cell_type": "code",
   "execution_count": 37,
   "id": "8ad2b322",
   "metadata": {},
   "outputs": [
    {
     "data": {
      "text/plain": [
       "Target_Gender\n",
       "f    46687\n",
       "m      359\n",
       "Name: count, dtype: int64"
      ]
     },
     "execution_count": 37,
     "metadata": {},
     "output_type": "execute_result"
    }
   ],
   "source": [
    "# Jewelry target gender distribution\n",
    "df[\"Target_Gender\"].value_counts()"
   ]
  },
  {
   "cell_type": "code",
   "execution_count": 38,
   "id": "2de8c82f",
   "metadata": {},
   "outputs": [
    {
     "data": {
      "text/plain": [
       "Target_Gender\n",
       "f    99.236917\n",
       "m     0.763083\n",
       "Name: proportion, dtype: float64"
      ]
     },
     "execution_count": 38,
     "metadata": {},
     "output_type": "execute_result"
    }
   ],
   "source": [
    "# Jewelry target gender distribution\n",
    "df[\"Target_Gender\"].value_counts(normalize = True) * 100"
   ]
  },
  {
   "cell_type": "code",
   "execution_count": 41,
   "id": "c11d85db",
   "metadata": {},
   "outputs": [
    {
     "data": {
      "image/png": "[encoded data removed]",
      "text/plain": [
       "<Figure size 1500x500 with 1 Axes>"
      ]
     },
     "metadata": {},
     "output_type": "display_data"
    }
   ],
   "source": [
    "plt.figure(figsize=(15, 5))\n",
    "sns.countplot(data=df, x=\"Target_Gender\")\n",
    "plt.xlabel(\"Gender\")\n",
    "plt.ylabel(\"Gender Subpopulation\")\n",
    "plt.title(\"Distribution of Product Gender\")\n",
    "plt.tight_layout()\n",
    "plt.show()\n",
    "plt.close()"
   ]
  },
  {
   "cell_type": "code",
   "execution_count": 43,
   "id": "306b7aba",
   "metadata": {},
   "outputs": [
    {
     "data": {
      "text/plain": [
       "Category\n",
       "jewelry.earring     29047\n",
       "jewelry.ring        26025\n",
       "jewelry.pendant     13083\n",
       "jewelry.bracelet     6129\n",
       "0.00                 4311\n",
       "                    ...  \n",
       "626.58                  1\n",
       "13.42                   1\n",
       "2.88                    1\n",
       "101.23                  1\n",
       "253.77                  1\n",
       "Name: count, Length: 218, dtype: int64"
      ]
     },
     "execution_count": 43,
     "metadata": {},
     "output_type": "execute_result"
    }
   ],
   "source": [
    "# Jewelry category distribution\n",
    "df[\"Category\"].value_counts()"
   ]
  },
  {
   "cell_type": "code",
   "execution_count": 45,
   "id": "9e323d0a",
   "metadata": {},
   "outputs": [
    {
     "data": {
      "text/plain": [
       "Category\n",
       "jewelry.earring       29047\n",
       "jewelry.ring          26025\n",
       "jewelry.pendant       13083\n",
       "jewelry.bracelet       6129\n",
       "0.00                   4311\n",
       "jewelry.necklace       2335\n",
       "jewelry.brooch         1286\n",
       "jewelry.souvenir        170\n",
       "electronics.clocks      165\n",
       "40.82                    54\n",
       "Name: count, dtype: int64"
      ]
     },
     "execution_count": 45,
     "metadata": {},
     "output_type": "execute_result"
    }
   ],
   "source": [
    "# Top 10 categories by sample size\n",
    "df[\"Category\"].value_counts()[:10]"
   ]
  },
  {
   "cell_type": "code",
   "execution_count": 46,
   "id": "0067058e",
   "metadata": {},
   "outputs": [
    {
     "data": {
      "text/plain": [
       "array([nan, 'jewelry.pendant', 'jewelry.necklace', 'jewelry.earring',\n",
       "       'jewelry.ring', 'jewelry.brooch', 'jewelry.bracelet',\n",
       "       'electronics.clocks', 'jewelry.souvenir', '230.12', '202.36',\n",
       "       '1098.03', '321.78', '1128.62', '81.27', '34.25', '582.16',\n",
       "       '227.37', '234.22', '150.55', '131.82', '2123.15', '109.45',\n",
       "       '49.22', '472.47', '205.38', '2746.44', '51.08', '231.12', '76.97',\n",
       "       '3054.73', '184.90', '380.10', '357.49', '15.47', '135.33',\n",
       "       '719.75', '93.01', '177.95', 'jewelry.stud', '102.10', '595.75',\n",
       "       '469.56', '427.07', '53.62', '77.53', '1469.18', '355.27',\n",
       "       '184.89', '154.66', '300.58', '83.73', '271.19', '3294.21',\n",
       "       '278.04', '3626.26', '126.03', '283.52', '114.38', '89.04', '8.22',\n",
       "       '124.88', '89.73', '171.23', '136.93', '19.04', '158.77', '187.10',\n",
       "       '151.92', '1845.89', '87.23', '248.58', '596.48', '208.88',\n",
       "       '193.11', '169.84', '1447.68', '45.07', '136.85', '282.05',\n",
       "       '61.51', '210.21', '137.12', '147.81', '419.45', '825.27',\n",
       "       '300.16', '541.78', '308.74', '766.85', '410.82', '101.23', '2.88',\n",
       "       '1356.16', '13.42', '35.21', '134.79', '626.58', '13.70', '108.53',\n",
       "       '119.01', '7.40', '4.79', '153.97', '482.47', '427.36', '289.18',\n",
       "       '25.48', '1858.49', '21.70', '11.77', '198.89', '17.51', '574.66',\n",
       "       '1319.93', '393.05', '358.22', '2282.19', '114.93', '371.23',\n",
       "       '63.56', '88.77', '133.70', '117.81', '166.03', '130.41', '195.75',\n",
       "       '104.79', '228.59', '1686.93', '65.89', '242.19', '252.47',\n",
       "       '210.41', '363.42', '149.04', '157.95', '176.30', '160.96',\n",
       "       '316.30', '258.77', '268.36', '838.90', '250.96', '832.01',\n",
       "       '312.33', '318.71', '323.60', '205.34', '608.22', '343.84',\n",
       "       '598.22', '508.08', '245.67', '338.36', '75.21', '573.81',\n",
       "       '691.51', '476.68', '247.68', '286.71', '863.67', '236.58',\n",
       "       '644.66', '40.82', '1376.99', '1.23', '621.23', '3454.79', '65.62',\n",
       "       '59.73', '571.30', '70.96', '271.26', '958.84', '527.26', '271.16',\n",
       "       '284.66', '261.64', '493.01', '35.48', '446.16', '526.41',\n",
       "       '2517.08', '331.51', '312.88', '148.63', '451.21', '369.82',\n",
       "       '537.40', '231.51', '316.34', '451.10', '283.49', '787.67',\n",
       "       '131.92', '495.48', '5.48', '186.03', '484.49', '331.23', '133.85',\n",
       "       '323.70', '2635.07', '297.22', '0.00', '259.58', '108.33',\n",
       "       '4876.49', '308.08', '190.27', '916.44', '132.53', '1829.37',\n",
       "       '2208.90', '75.76', '278.01', '662.30', '253.77'], dtype=object)"
      ]
     },
     "execution_count": 46,
     "metadata": {},
     "output_type": "execute_result"
    }
   ],
   "source": [
    "df[\"Category\"].unique()"
   ]
  },
  {
   "cell_type": "code",
   "execution_count": 48,
   "id": "a3b184a6",
   "metadata": {},
   "outputs": [],
   "source": [
    "# Exctract real jewelry categories\n",
    "categories = df[\"Category\"].unique().tolist()\n",
    "categories = [c for c in categories if isinstance(c, str) and c.__contains__(\"jewelry\")]"
   ]
  },
  {
   "cell_type": "code",
   "execution_count": 49,
   "id": "4fbcc46c",
   "metadata": {},
   "outputs": [
    {
     "data": {
      "text/plain": [
       "['jewelry.pendant',\n",
       " 'jewelry.necklace',\n",
       " 'jewelry.earring',\n",
       " 'jewelry.ring',\n",
       " 'jewelry.brooch',\n",
       " 'jewelry.bracelet',\n",
       " 'jewelry.souvenir',\n",
       " 'jewelry.stud']"
      ]
     },
     "execution_count": 49,
     "metadata": {},
     "output_type": "execute_result"
    }
   ],
   "source": [
    "categories"
   ]
  },
  {
   "cell_type": "code",
   "execution_count": 52,
   "id": "e9248dcf",
   "metadata": {},
   "outputs": [],
   "source": [
    "# Extract records with the real categories\n",
    "real_categories = df.loc[df[\"Category\"].isin(categories), :]"
   ]
  },
  {
   "cell_type": "code",
   "execution_count": 54,
   "id": "5ce45974",
   "metadata": {},
   "outputs": [
    {
     "data": {
      "text/plain": [
       "Order_Datetime     0.000000\n",
       "Order_ID           0.000000\n",
       "Product_ID         0.000000\n",
       "SKU_Quantity       0.000000\n",
       "Category_ID        0.000000\n",
       "Category           0.000000\n",
       "Brand_ID           3.609048\n",
       "USD_Price          0.000000\n",
       "User_ID            0.000000\n",
       "Target_Gender     36.833082\n",
       "Main_Color         2.009194\n",
       "Main_Metal         0.092155\n",
       "Main_Gem          19.378275\n",
       "dtype: float64"
      ]
     },
     "execution_count": 54,
     "metadata": {},
     "output_type": "execute_result"
    }
   ],
   "source": [
    "# Check for missing values\n",
    "100 * real_categories.isnull().sum() / len(df)"
   ]
  },
  {
   "cell_type": "code",
   "execution_count": 55,
   "id": "9718951b",
   "metadata": {},
   "outputs": [
    {
     "data": {
      "image/png": "[encoded data removed]",
      "text/plain": [
       "<Figure size 1500x800 with 1 Axes>"
      ]
     },
     "metadata": {},
     "output_type": "display_data"
    }
   ],
   "source": [
    "# Visualize the jewelry category via pie chart\n",
    "\n",
    "jewelry_categories, counts = real_categories[\"Category\"].value_counts().index.tolist(), real_categories[\"Category\"].value_counts().values\n",
    "\n",
    "plt.figure(figsize = (15, 8))\n",
    "plt.pie(x=counts, labels=jewelry_categories)\n",
    "\n",
    "plt.title(\"Pie Plot of Jewelry Category\", fontsize=25, pad=20)\n",
    "\n",
    "plt.show(); plt.close(\"all\")"
   ]
  },
  {
   "cell_type": "code",
   "execution_count": 58,
   "id": "e6ed1c4b",
   "metadata": {},
   "outputs": [
    {
     "data": {
      "image/png": "[encoded data removed]",
      "text/plain": [
       "<Figure size 1500x800 with 1 Axes>"
      ]
     },
     "metadata": {},
     "output_type": "display_data"
    }
   ],
   "source": [
    "plt.figure(figsize=(15, 8))\n",
    "sns.countplot(data=real_categories, x=\"Category\")\n",
    "plt.xlabel(\"Jewelry Categories\")\n",
    "plt.ylabel(\"Category Frequency\")\n",
    "\n",
    "plt.show()\n",
    "plt.close()"
   ]
  },
  {
   "cell_type": "code",
   "execution_count": 60,
   "id": "00892a49",
   "metadata": {},
   "outputs": [
    {
     "data": {
      "image/png": "[encoded data removed]",
      "text/plain": [
       "<Figure size 1500x800 with 1 Axes>"
      ]
     },
     "metadata": {},
     "output_type": "display_data"
    }
   ],
   "source": [
    "plt.figure(figsize=(15,8))\n",
    "sns.countplot(data =real_categories, x =\"Category\", hue =\"Target_Gender\")\n",
    "\n",
    "plt.xlabel(\"Jewelry Categories by gender\")\n",
    "plt.ylabel(\"Category Frequency\")\n",
    "\n",
    "plt.show()\n",
    "plt.close()"
   ]
  },
  {
   "cell_type": "code",
   "execution_count": 61,
   "id": "eaa2f83a",
   "metadata": {},
   "outputs": [
    {
     "data": {
      "text/plain": [
       "Target_Gender\n",
       "f    99.444114\n",
       "m     0.555886\n",
       "Name: proportion, dtype: float64"
      ]
     },
     "execution_count": 61,
     "metadata": {},
     "output_type": "execute_result"
    }
   ],
   "source": [
    "# Jewelry target gender distribution\n",
    "real_categories[\"Target_Gender\"].value_counts(normalize=True) * 100"
   ]
  },
  {
   "cell_type": "markdown",
   "id": "906dff2b",
   "metadata": {},
   "source": [
    "#### Feature correlation\n",
    "It would make some sense to observe the features for colinearity. As most of the features in the dataset are categorical, the Spearman Rank correlation coefficient will be utilized."
   ]
  },
  {
   "cell_type": "code",
   "execution_count": 62,
   "id": "e3f337bc",
   "metadata": {},
   "outputs": [],
   "source": [
    "encoded, category_codes = pd.factorize(real_categories[\"Category\"])\n",
    "real_categories.loc[:, \"Category\"] = encoded"
   ]
  },
  {
   "cell_type": "code",
   "execution_count": 63,
   "id": "23ef0f9e",
   "metadata": {},
   "outputs": [],
   "source": [
    "encoded, category_codes = pd.factorize(real_categories[\"Target_Gender\"])\n",
    "real_categories.loc[:, \"Target_Gender\"] = encoded"
   ]
  },
  {
   "cell_type": "code",
   "execution_count": 64,
   "id": "c8d9c086",
   "metadata": {},
   "outputs": [],
   "source": [
    "encoded, category_codes = pd.factorize(real_categories[\"Main_Color\"])\n",
    "real_categories.loc[:, \"Main_Color\"] = encoded"
   ]
  },
  {
   "cell_type": "code",
   "execution_count": 65,
   "id": "fd36924c",
   "metadata": {},
   "outputs": [],
   "source": [
    "encoded, category_codes = pd.factorize(real_categories[\"Main_Gem\"])\n",
    "real_categories.loc[:, \"Main_Gem\"] = encoded"
   ]
  },
  {
   "cell_type": "code",
   "execution_count": 66,
   "id": "10361004",
   "metadata": {},
   "outputs": [],
   "source": [
    "encoded, category_codes = pd.factorize(real_categories[\"Main_Metal\"])\n",
    "real_categories.loc[:, \"Main_Metal\"] = encoded"
   ]
  },
  {
   "cell_type": "code",
   "execution_count": 67,
   "id": "03c4e0df",
   "metadata": {},
   "outputs": [],
   "source": [
    "# Obtain Spearman Rank correlation coeficients for all features\n",
    "correlations = real_categories.drop([\"Order_Datetime\", \"User_ID\", \"Order_ID\"], axis=1).corr(\"spearman\")"
   ]
  },
  {
   "cell_type": "code",
   "execution_count": 68,
   "id": "8d476b00",
   "metadata": {},
   "outputs": [
    {
     "data": {
      "text/html": [
       "<div>\n",
       "<style scoped>\n",
       "    .dataframe tbody tr th:only-of-type {\n",
       "        vertical-align: middle;\n",
       "    }\n",
       "\n",
       "    .dataframe tbody tr th {\n",
       "        vertical-align: top;\n",
       "    }\n",
       "\n",
       "    .dataframe thead th {\n",
       "        text-align: right;\n",
       "    }\n",
       "</style>\n",
       "<table border=\"1\" class=\"dataframe\">\n",
       "  <thead>\n",
       "    <tr style=\"text-align: right;\">\n",
       "      <th></th>\n",
       "      <th>Product_ID</th>\n",
       "      <th>SKU_Quantity</th>\n",
       "      <th>Category_ID</th>\n",
       "      <th>Category</th>\n",
       "      <th>Brand_ID</th>\n",
       "      <th>USD_Price</th>\n",
       "      <th>Target_Gender</th>\n",
       "      <th>Main_Color</th>\n",
       "      <th>Main_Metal</th>\n",
       "      <th>Main_Gem</th>\n",
       "    </tr>\n",
       "  </thead>\n",
       "  <tbody>\n",
       "    <tr>\n",
       "      <th>Product_ID</th>\n",
       "      <td>1.000000</td>\n",
       "      <td>NaN</td>\n",
       "      <td>-0.067612</td>\n",
       "      <td>0.045974</td>\n",
       "      <td>-0.167567</td>\n",
       "      <td>-0.005826</td>\n",
       "      <td>-0.174900</td>\n",
       "      <td>0.007825</td>\n",
       "      <td>-0.070714</td>\n",
       "      <td>-0.085904</td>\n",
       "    </tr>\n",
       "    <tr>\n",
       "      <th>SKU_Quantity</th>\n",
       "      <td>NaN</td>\n",
       "      <td>NaN</td>\n",
       "      <td>NaN</td>\n",
       "      <td>NaN</td>\n",
       "      <td>NaN</td>\n",
       "      <td>NaN</td>\n",
       "      <td>NaN</td>\n",
       "      <td>NaN</td>\n",
       "      <td>NaN</td>\n",
       "      <td>NaN</td>\n",
       "    </tr>\n",
       "    <tr>\n",
       "      <th>Category_ID</th>\n",
       "      <td>-0.067612</td>\n",
       "      <td>NaN</td>\n",
       "      <td>1.000000</td>\n",
       "      <td>-0.883445</td>\n",
       "      <td>0.102341</td>\n",
       "      <td>-0.304429</td>\n",
       "      <td>0.092612</td>\n",
       "      <td>-0.005701</td>\n",
       "      <td>0.159114</td>\n",
       "      <td>0.029780</td>\n",
       "    </tr>\n",
       "    <tr>\n",
       "      <th>Category</th>\n",
       "      <td>0.045974</td>\n",
       "      <td>NaN</td>\n",
       "      <td>-0.883445</td>\n",
       "      <td>1.000000</td>\n",
       "      <td>-0.103630</td>\n",
       "      <td>0.274393</td>\n",
       "      <td>-0.112309</td>\n",
       "      <td>-0.053113</td>\n",
       "      <td>0.106521</td>\n",
       "      <td>-0.064541</td>\n",
       "    </tr>\n",
       "    <tr>\n",
       "      <th>Brand_ID</th>\n",
       "      <td>-0.167567</td>\n",
       "      <td>NaN</td>\n",
       "      <td>0.102341</td>\n",
       "      <td>-0.103630</td>\n",
       "      <td>1.000000</td>\n",
       "      <td>-0.024357</td>\n",
       "      <td>0.621894</td>\n",
       "      <td>0.093239</td>\n",
       "      <td>0.002909</td>\n",
       "      <td>0.058302</td>\n",
       "    </tr>\n",
       "    <tr>\n",
       "      <th>USD_Price</th>\n",
       "      <td>-0.005826</td>\n",
       "      <td>NaN</td>\n",
       "      <td>-0.304429</td>\n",
       "      <td>0.274393</td>\n",
       "      <td>-0.024357</td>\n",
       "      <td>1.000000</td>\n",
       "      <td>0.046484</td>\n",
       "      <td>0.009921</td>\n",
       "      <td>-0.175966</td>\n",
       "      <td>-0.014676</td>\n",
       "    </tr>\n",
       "    <tr>\n",
       "      <th>Target_Gender</th>\n",
       "      <td>-0.174900</td>\n",
       "      <td>NaN</td>\n",
       "      <td>0.092612</td>\n",
       "      <td>-0.112309</td>\n",
       "      <td>0.621894</td>\n",
       "      <td>0.046484</td>\n",
       "      <td>1.000000</td>\n",
       "      <td>0.045873</td>\n",
       "      <td>-0.049423</td>\n",
       "      <td>0.148043</td>\n",
       "    </tr>\n",
       "    <tr>\n",
       "      <th>Main_Color</th>\n",
       "      <td>0.007825</td>\n",
       "      <td>NaN</td>\n",
       "      <td>-0.005701</td>\n",
       "      <td>-0.053113</td>\n",
       "      <td>0.093239</td>\n",
       "      <td>0.009921</td>\n",
       "      <td>0.045873</td>\n",
       "      <td>1.000000</td>\n",
       "      <td>-0.244682</td>\n",
       "      <td>0.127346</td>\n",
       "    </tr>\n",
       "    <tr>\n",
       "      <th>Main_Metal</th>\n",
       "      <td>-0.070714</td>\n",
       "      <td>NaN</td>\n",
       "      <td>0.159114</td>\n",
       "      <td>0.106521</td>\n",
       "      <td>0.002909</td>\n",
       "      <td>-0.175966</td>\n",
       "      <td>-0.049423</td>\n",
       "      <td>-0.244682</td>\n",
       "      <td>1.000000</td>\n",
       "      <td>-0.058735</td>\n",
       "    </tr>\n",
       "    <tr>\n",
       "      <th>Main_Gem</th>\n",
       "      <td>-0.085904</td>\n",
       "      <td>NaN</td>\n",
       "      <td>0.029780</td>\n",
       "      <td>-0.064541</td>\n",
       "      <td>0.058302</td>\n",
       "      <td>-0.014676</td>\n",
       "      <td>0.148043</td>\n",
       "      <td>0.127346</td>\n",
       "      <td>-0.058735</td>\n",
       "      <td>1.000000</td>\n",
       "    </tr>\n",
       "  </tbody>\n",
       "</table>\n",
       "</div>"
      ],
      "text/plain": [
       "               Product_ID  SKU_Quantity  Category_ID  Category  Brand_ID  \\\n",
       "Product_ID       1.000000           NaN    -0.067612  0.045974 -0.167567   \n",
       "SKU_Quantity          NaN           NaN          NaN       NaN       NaN   \n",
       "Category_ID     -0.067612           NaN     1.000000 -0.883445  0.102341   \n",
       "Category         0.045974           NaN    -0.883445  1.000000 -0.103630   \n",
       "Brand_ID        -0.167567           NaN     0.102341 -0.103630  1.000000   \n",
       "USD_Price       -0.005826           NaN    -0.304429  0.274393 -0.024357   \n",
       "Target_Gender   -0.174900           NaN     0.092612 -0.112309  0.621894   \n",
       "Main_Color       0.007825           NaN    -0.005701 -0.053113  0.093239   \n",
       "Main_Metal      -0.070714           NaN     0.159114  0.106521  0.002909   \n",
       "Main_Gem        -0.085904           NaN     0.029780 -0.064541  0.058302   \n",
       "\n",
       "               USD_Price  Target_Gender  Main_Color  Main_Metal  Main_Gem  \n",
       "Product_ID     -0.005826      -0.174900    0.007825   -0.070714 -0.085904  \n",
       "SKU_Quantity         NaN            NaN         NaN         NaN       NaN  \n",
       "Category_ID    -0.304429       0.092612   -0.005701    0.159114  0.029780  \n",
       "Category        0.274393      -0.112309   -0.053113    0.106521 -0.064541  \n",
       "Brand_ID       -0.024357       0.621894    0.093239    0.002909  0.058302  \n",
       "USD_Price       1.000000       0.046484    0.009921   -0.175966 -0.014676  \n",
       "Target_Gender   0.046484       1.000000    0.045873   -0.049423  0.148043  \n",
       "Main_Color      0.009921       0.045873    1.000000   -0.244682  0.127346  \n",
       "Main_Metal     -0.175966      -0.049423   -0.244682    1.000000 -0.058735  \n",
       "Main_Gem       -0.014676       0.148043    0.127346   -0.058735  1.000000  "
      ]
     },
     "execution_count": 68,
     "metadata": {},
     "output_type": "execute_result"
    }
   ],
   "source": [
    "correlations"
   ]
  },
  {
   "cell_type": "code",
   "execution_count": 69,
   "id": "9bda8a38",
   "metadata": {},
   "outputs": [
    {
     "data": {
      "image/png": "[encoded data removed]",
      "text/plain": [
       "<Figure size 1000x1000 with 2 Axes>"
      ]
     },
     "metadata": {},
     "output_type": "display_data"
    }
   ],
   "source": [
    "# Correlation heatmap\n",
    "plt.figure(figsize = (10, 10))\n",
    "sns.heatmap(correlations, annot=correlations, center=.3)\n",
    "plt.show()"
   ]
  },
  {
   "cell_type": "code",
   "execution_count": 70,
   "id": "de3fe80e",
   "metadata": {},
   "outputs": [
    {
     "data": {
      "text/html": [
       "<div>\n",
       "<style scoped>\n",
       "    .dataframe tbody tr th:only-of-type {\n",
       "        vertical-align: middle;\n",
       "    }\n",
       "\n",
       "    .dataframe tbody tr th {\n",
       "        vertical-align: top;\n",
       "    }\n",
       "\n",
       "    .dataframe thead th {\n",
       "        text-align: right;\n",
       "    }\n",
       "</style>\n",
       "<table border=\"1\" class=\"dataframe\">\n",
       "  <thead>\n",
       "    <tr style=\"text-align: right;\">\n",
       "      <th></th>\n",
       "      <th>Product_ID</th>\n",
       "      <th>SKU_Quantity</th>\n",
       "      <th>Category_ID</th>\n",
       "      <th>Category</th>\n",
       "      <th>Brand_ID</th>\n",
       "      <th>USD_Price</th>\n",
       "      <th>Target_Gender</th>\n",
       "      <th>Main_Color</th>\n",
       "      <th>Main_Metal</th>\n",
       "      <th>Main_Gem</th>\n",
       "    </tr>\n",
       "  </thead>\n",
       "  <tbody>\n",
       "    <tr>\n",
       "      <th>Product_ID</th>\n",
       "      <td>1.000000</td>\n",
       "      <td>NaN</td>\n",
       "      <td>-0.067612</td>\n",
       "      <td>0.045974</td>\n",
       "      <td>-0.167567</td>\n",
       "      <td>-0.005826</td>\n",
       "      <td>-0.174900</td>\n",
       "      <td>0.007825</td>\n",
       "      <td>-0.070714</td>\n",
       "      <td>-0.085904</td>\n",
       "    </tr>\n",
       "    <tr>\n",
       "      <th>SKU_Quantity</th>\n",
       "      <td>NaN</td>\n",
       "      <td>NaN</td>\n",
       "      <td>NaN</td>\n",
       "      <td>NaN</td>\n",
       "      <td>NaN</td>\n",
       "      <td>NaN</td>\n",
       "      <td>NaN</td>\n",
       "      <td>NaN</td>\n",
       "      <td>NaN</td>\n",
       "      <td>NaN</td>\n",
       "    </tr>\n",
       "    <tr>\n",
       "      <th>Category_ID</th>\n",
       "      <td>-0.067612</td>\n",
       "      <td>NaN</td>\n",
       "      <td>1.000000</td>\n",
       "      <td>-0.883445</td>\n",
       "      <td>0.102341</td>\n",
       "      <td>-0.304429</td>\n",
       "      <td>0.092612</td>\n",
       "      <td>-0.005701</td>\n",
       "      <td>0.159114</td>\n",
       "      <td>0.029780</td>\n",
       "    </tr>\n",
       "    <tr>\n",
       "      <th>Category</th>\n",
       "      <td>0.045974</td>\n",
       "      <td>NaN</td>\n",
       "      <td>-0.883445</td>\n",
       "      <td>1.000000</td>\n",
       "      <td>-0.103630</td>\n",
       "      <td>0.274393</td>\n",
       "      <td>-0.112309</td>\n",
       "      <td>-0.053113</td>\n",
       "      <td>0.106521</td>\n",
       "      <td>-0.064541</td>\n",
       "    </tr>\n",
       "    <tr>\n",
       "      <th>Brand_ID</th>\n",
       "      <td>-0.167567</td>\n",
       "      <td>NaN</td>\n",
       "      <td>0.102341</td>\n",
       "      <td>-0.103630</td>\n",
       "      <td>1.000000</td>\n",
       "      <td>-0.024357</td>\n",
       "      <td>0.621894</td>\n",
       "      <td>0.093239</td>\n",
       "      <td>0.002909</td>\n",
       "      <td>0.058302</td>\n",
       "    </tr>\n",
       "    <tr>\n",
       "      <th>USD_Price</th>\n",
       "      <td>-0.005826</td>\n",
       "      <td>NaN</td>\n",
       "      <td>-0.304429</td>\n",
       "      <td>0.274393</td>\n",
       "      <td>-0.024357</td>\n",
       "      <td>1.000000</td>\n",
       "      <td>0.046484</td>\n",
       "      <td>0.009921</td>\n",
       "      <td>-0.175966</td>\n",
       "      <td>-0.014676</td>\n",
       "    </tr>\n",
       "    <tr>\n",
       "      <th>Target_Gender</th>\n",
       "      <td>-0.174900</td>\n",
       "      <td>NaN</td>\n",
       "      <td>0.092612</td>\n",
       "      <td>-0.112309</td>\n",
       "      <td>0.621894</td>\n",
       "      <td>0.046484</td>\n",
       "      <td>1.000000</td>\n",
       "      <td>0.045873</td>\n",
       "      <td>-0.049423</td>\n",
       "      <td>0.148043</td>\n",
       "    </tr>\n",
       "    <tr>\n",
       "      <th>Main_Color</th>\n",
       "      <td>0.007825</td>\n",
       "      <td>NaN</td>\n",
       "      <td>-0.005701</td>\n",
       "      <td>-0.053113</td>\n",
       "      <td>0.093239</td>\n",
       "      <td>0.009921</td>\n",
       "      <td>0.045873</td>\n",
       "      <td>1.000000</td>\n",
       "      <td>-0.244682</td>\n",
       "      <td>0.127346</td>\n",
       "    </tr>\n",
       "    <tr>\n",
       "      <th>Main_Metal</th>\n",
       "      <td>-0.070714</td>\n",
       "      <td>NaN</td>\n",
       "      <td>0.159114</td>\n",
       "      <td>0.106521</td>\n",
       "      <td>0.002909</td>\n",
       "      <td>-0.175966</td>\n",
       "      <td>-0.049423</td>\n",
       "      <td>-0.244682</td>\n",
       "      <td>1.000000</td>\n",
       "      <td>-0.058735</td>\n",
       "    </tr>\n",
       "    <tr>\n",
       "      <th>Main_Gem</th>\n",
       "      <td>-0.085904</td>\n",
       "      <td>NaN</td>\n",
       "      <td>0.029780</td>\n",
       "      <td>-0.064541</td>\n",
       "      <td>0.058302</td>\n",
       "      <td>-0.014676</td>\n",
       "      <td>0.148043</td>\n",
       "      <td>0.127346</td>\n",
       "      <td>-0.058735</td>\n",
       "      <td>1.000000</td>\n",
       "    </tr>\n",
       "  </tbody>\n",
       "</table>\n",
       "</div>"
      ],
      "text/plain": [
       "               Product_ID  SKU_Quantity  Category_ID  Category  Brand_ID  \\\n",
       "Product_ID       1.000000           NaN    -0.067612  0.045974 -0.167567   \n",
       "SKU_Quantity          NaN           NaN          NaN       NaN       NaN   \n",
       "Category_ID     -0.067612           NaN     1.000000 -0.883445  0.102341   \n",
       "Category         0.045974           NaN    -0.883445  1.000000 -0.103630   \n",
       "Brand_ID        -0.167567           NaN     0.102341 -0.103630  1.000000   \n",
       "USD_Price       -0.005826           NaN    -0.304429  0.274393 -0.024357   \n",
       "Target_Gender   -0.174900           NaN     0.092612 -0.112309  0.621894   \n",
       "Main_Color       0.007825           NaN    -0.005701 -0.053113  0.093239   \n",
       "Main_Metal      -0.070714           NaN     0.159114  0.106521  0.002909   \n",
       "Main_Gem        -0.085904           NaN     0.029780 -0.064541  0.058302   \n",
       "\n",
       "               USD_Price  Target_Gender  Main_Color  Main_Metal  Main_Gem  \n",
       "Product_ID     -0.005826      -0.174900    0.007825   -0.070714 -0.085904  \n",
       "SKU_Quantity         NaN            NaN         NaN         NaN       NaN  \n",
       "Category_ID    -0.304429       0.092612   -0.005701    0.159114  0.029780  \n",
       "Category        0.274393      -0.112309   -0.053113    0.106521 -0.064541  \n",
       "Brand_ID       -0.024357       0.621894    0.093239    0.002909  0.058302  \n",
       "USD_Price       1.000000       0.046484    0.009921   -0.175966 -0.014676  \n",
       "Target_Gender   0.046484       1.000000    0.045873   -0.049423  0.148043  \n",
       "Main_Color      0.009921       0.045873    1.000000   -0.244682  0.127346  \n",
       "Main_Metal     -0.175966      -0.049423   -0.244682    1.000000 -0.058735  \n",
       "Main_Gem       -0.014676       0.148043    0.127346   -0.058735  1.000000  "
      ]
     },
     "execution_count": 70,
     "metadata": {},
     "output_type": "execute_result"
    }
   ],
   "source": [
    "correlations"
   ]
  },
  {
   "cell_type": "code",
   "execution_count": 71,
   "id": "d8c859a0",
   "metadata": {},
   "outputs": [],
   "source": [
    "# Set correlation limits\n",
    "lower_corr_limits = .2\n",
    "upper_corr_limits = 1."
   ]
  },
  {
   "cell_type": "code",
   "execution_count": 72,
   "id": "78b9f565",
   "metadata": {},
   "outputs": [],
   "source": [
    "correlated_columns = {\n",
    "    column: correlations[(correlations[column] > lower_corr_limits) & (upper_corr_limits > correlations[column])].index.tolist()\n",
    "    for column in correlations.columns\n",
    "}"
   ]
  },
  {
   "cell_type": "code",
   "execution_count": 73,
   "id": "f237bfca",
   "metadata": {},
   "outputs": [
    {
     "data": {
      "text/plain": [
       "{'Product_ID': [],\n",
       " 'SKU_Quantity': [],\n",
       " 'Category_ID': [],\n",
       " 'Category': ['USD_Price'],\n",
       " 'Brand_ID': ['Target_Gender'],\n",
       " 'USD_Price': ['Category'],\n",
       " 'Target_Gender': ['Brand_ID'],\n",
       " 'Main_Color': [],\n",
       " 'Main_Metal': [],\n",
       " 'Main_Gem': []}"
      ]
     },
     "execution_count": 73,
     "metadata": {},
     "output_type": "execute_result"
    }
   ],
   "source": [
    "correlated_columns"
   ]
  },
  {
   "cell_type": "code",
   "execution_count": 74,
   "id": "cbe5c17d",
   "metadata": {},
   "outputs": [],
   "source": [
    "num_correlated_columns = {k: len(v) for k, v in correlated_columns.items()}"
   ]
  },
  {
   "cell_type": "code",
   "execution_count": 75,
   "id": "a7193125",
   "metadata": {},
   "outputs": [
    {
     "data": {
      "text/plain": [
       "{'Product_ID': 0,\n",
       " 'SKU_Quantity': 0,\n",
       " 'Category_ID': 0,\n",
       " 'Category': 1,\n",
       " 'Brand_ID': 1,\n",
       " 'USD_Price': 1,\n",
       " 'Target_Gender': 1,\n",
       " 'Main_Color': 0,\n",
       " 'Main_Metal': 0,\n",
       " 'Main_Gem': 0}"
      ]
     },
     "execution_count": 75,
     "metadata": {},
     "output_type": "execute_result"
    }
   ],
   "source": [
    "num_correlated_columns"
   ]
  },
  {
   "cell_type": "code",
   "execution_count": null,
   "id": "22a016e0",
   "metadata": {},
   "outputs": [],
   "source": []
  },
  {
   "cell_type": "code",
   "execution_count": 76,
   "id": "689865fe",
   "metadata": {},
   "outputs": [],
   "source": [
    "from sklearn.model_selection import train_test_split\n",
    "\n",
    "from sklearn.impute import SimpleImputer\n",
    "from sklearn.pipeline import Pipeline\n",
    "\n",
    "from sklearn.preprocessing import StandardScaler, OneHotEncoder, OrdinalEncoder, PowerTransformer\n",
    "from sklearn.compose import ColumnTransformer, TransformedTargetRegressor\n",
    "\n",
    "from sklearn.svm import SVR\n",
    "from sklearn.linear_model import LinearRegression\n",
    "from sklearn.ensemble import AdaBoostRegressor, ExtraTreesRegressor\n",
    "\n",
    "from catboost import CatBoostRegressor\n",
    "\n",
    "from sklearn.base import BaseEstimator, TransformerMixin"
   ]
  },
  {
   "cell_type": "code",
   "execution_count": 78,
   "id": "04844641",
   "metadata": {},
   "outputs": [],
   "source": [
    "# Columns to drop\n",
    "to_drop = [\n",
    "    \"SKU_Quantity\",\n",
    "    \"Order_ID\",\n",
    "    \"Product_ID\",\n",
    "    \"Order_Datetime\",\n",
    "    \"User_ID\",\n",
    "    \"Category_ID\"\n",
    "]"
   ]
  },
  {
   "cell_type": "code",
   "execution_count": 80,
   "id": "eb0530de",
   "metadata": {},
   "outputs": [
    {
     "name": "stderr",
     "output_type": "stream",
     "text": [
      "C:\\Users\\ADDIS\\AppData\\Local\\Temp\\ipykernel_9196\\287672491.py:1: SettingWithCopyWarning: \n",
      "A value is trying to be set on a copy of a slice from a DataFrame\n",
      "\n",
      "See the caveats in the documentation: https://pandas.pydata.org/pandas-docs/stable/user_guide/indexing.html#returning-a-view-versus-a-copy\n",
      "  df.drop(labels = to_drop, axis=1, inplace=True)\n"
     ]
    }
   ],
   "source": [
    "df.drop(labels = to_drop, axis=1, inplace=True)"
   ]
  },
  {
   "cell_type": "code",
   "execution_count": 82,
   "id": "0a48a403",
   "metadata": {},
   "outputs": [
    {
     "data": {
      "text/html": [
       "<div>\n",
       "<style scoped>\n",
       "    .dataframe tbody tr th:only-of-type {\n",
       "        vertical-align: middle;\n",
       "    }\n",
       "\n",
       "    .dataframe tbody tr th {\n",
       "        vertical-align: top;\n",
       "    }\n",
       "\n",
       "    .dataframe thead th {\n",
       "        text-align: right;\n",
       "    }\n",
       "</style>\n",
       "<table border=\"1\" class=\"dataframe\">\n",
       "  <thead>\n",
       "    <tr style=\"text-align: right;\">\n",
       "      <th></th>\n",
       "      <th>Category</th>\n",
       "      <th>Brand_ID</th>\n",
       "      <th>USD_Price</th>\n",
       "      <th>Target_Gender</th>\n",
       "      <th>Main_Color</th>\n",
       "      <th>Main_Metal</th>\n",
       "      <th>Main_Gem</th>\n",
       "    </tr>\n",
       "  </thead>\n",
       "  <tbody>\n",
       "    <tr>\n",
       "      <th>0</th>\n",
       "      <td>NaN</td>\n",
       "      <td>NaN</td>\n",
       "      <td>212.14</td>\n",
       "      <td>NaN</td>\n",
       "      <td>yellow</td>\n",
       "      <td>gold</td>\n",
       "      <td>NaN</td>\n",
       "    </tr>\n",
       "    <tr>\n",
       "      <th>1</th>\n",
       "      <td>jewelry.pendant</td>\n",
       "      <td>1.0</td>\n",
       "      <td>54.66</td>\n",
       "      <td>f</td>\n",
       "      <td>white</td>\n",
       "      <td>gold</td>\n",
       "      <td>sapphire</td>\n",
       "    </tr>\n",
       "    <tr>\n",
       "      <th>2</th>\n",
       "      <td>jewelry.pendant</td>\n",
       "      <td>0.0</td>\n",
       "      <td>88.90</td>\n",
       "      <td>f</td>\n",
       "      <td>red</td>\n",
       "      <td>gold</td>\n",
       "      <td>diamond</td>\n",
       "    </tr>\n",
       "    <tr>\n",
       "      <th>3</th>\n",
       "      <td>jewelry.necklace</td>\n",
       "      <td>0.0</td>\n",
       "      <td>417.67</td>\n",
       "      <td>NaN</td>\n",
       "      <td>red</td>\n",
       "      <td>gold</td>\n",
       "      <td>amethyst</td>\n",
       "    </tr>\n",
       "    <tr>\n",
       "      <th>4</th>\n",
       "      <td>jewelry.earring</td>\n",
       "      <td>1.0</td>\n",
       "      <td>102.27</td>\n",
       "      <td>NaN</td>\n",
       "      <td>red</td>\n",
       "      <td>gold</td>\n",
       "      <td>NaN</td>\n",
       "    </tr>\n",
       "  </tbody>\n",
       "</table>\n",
       "</div>"
      ],
      "text/plain": [
       "           Category  Brand_ID  USD_Price Target_Gender Main_Color Main_Metal  \\\n",
       "0               NaN       NaN     212.14           NaN     yellow       gold   \n",
       "1   jewelry.pendant       1.0      54.66             f      white       gold   \n",
       "2   jewelry.pendant       0.0      88.90             f        red       gold   \n",
       "3  jewelry.necklace       0.0     417.67           NaN        red       gold   \n",
       "4   jewelry.earring       1.0     102.27           NaN        red       gold   \n",
       "\n",
       "   Main_Gem  \n",
       "0       NaN  \n",
       "1  sapphire  \n",
       "2   diamond  \n",
       "3  amethyst  \n",
       "4       NaN  "
      ]
     },
     "execution_count": 82,
     "metadata": {},
     "output_type": "execute_result"
    }
   ],
   "source": [
    "df.head()"
   ]
  },
  {
   "cell_type": "code",
   "execution_count": 84,
   "id": "dc3d450c",
   "metadata": {},
   "outputs": [
    {
     "data": {
      "text/plain": [
       "Category          218\n",
       "Brand_ID         2537\n",
       "USD_Price        3166\n",
       "Target_Gender       2\n",
       "Main_Color          5\n",
       "Main_Metal          3\n",
       "Main_Gem           30\n",
       "dtype: int64"
      ]
     },
     "execution_count": 84,
     "metadata": {},
     "output_type": "execute_result"
    }
   ],
   "source": [
    "df.nunique()"
   ]
  },
  {
   "cell_type": "code",
   "execution_count": 85,
   "id": "363ed3d3",
   "metadata": {},
   "outputs": [
    {
     "data": {
      "text/plain": [
       "(93321, 7)"
      ]
     },
     "execution_count": 85,
     "metadata": {},
     "output_type": "execute_result"
    }
   ],
   "source": [
    "df.shape"
   ]
  },
  {
   "cell_type": "code",
   "execution_count": 87,
   "id": "72fb604a",
   "metadata": {},
   "outputs": [
    {
     "ename": "NameError",
     "evalue": "name 'real_categories' is not defined",
     "output_type": "error",
     "traceback": [
      "\u001b[1;31m---------------------------------------------------------------------------\u001b[0m",
      "\u001b[1;31mNameError\u001b[0m                                 Traceback (most recent call last)",
      "Cell \u001b[1;32mIn[87], line 3\u001b[0m\n\u001b[0;32m      1\u001b[0m \u001b[38;5;66;03m# Extract records with the real categories\u001b[39;00m\n\u001b[1;32m----> 3\u001b[0m \u001b[38;5;28;01mdel\u001b[39;00m real_categories\n\u001b[0;32m      4\u001b[0m df \u001b[38;5;241m=\u001b[39m df\u001b[38;5;241m.\u001b[39mloc[data[\u001b[38;5;124m\"\u001b[39m\u001b[38;5;124mCategory\u001b[39m\u001b[38;5;124m\"\u001b[39m]\u001b[38;5;241m.\u001b[39misin(categories), :]\n",
      "\u001b[1;31mNameError\u001b[0m: name 'real_categories' is not defined"
     ]
    }
   ],
   "source": [
    "# Extract records with the real categories\n",
    "\n",
    "del real_categories\n",
    "df = df.loc[data[\"Category\"].isin(categories), :]"
   ]
  },
  {
   "cell_type": "code",
   "execution_count": 89,
   "id": "0d9124c6",
   "metadata": {},
   "outputs": [],
   "source": [
    "# Extract features and labels\n",
    "X, y = df.drop(labels = [\"USD_Price\"], axis=1), df['USD_Price']"
   ]
  },
  {
   "cell_type": "code",
   "execution_count": 90,
   "id": "d952808a",
   "metadata": {},
   "outputs": [],
   "source": [
    "# Column indexes\n",
    "columns = X.columns.tolist()\n",
    "column_indexes = [i for i in range(len(X.columns))]"
   ]
  },
  {
   "cell_type": "code",
   "execution_count": 91,
   "id": "a715e4db",
   "metadata": {},
   "outputs": [],
   "source": [
    " #Split data into test and train sets\n",
    "X_train, X_test, y_train, y_test = train_test_split(X, y, test_size = 0.1)"
   ]
  },
  {
   "cell_type": "code",
   "execution_count": null,
   "id": "6d913427",
   "metadata": {},
   "outputs": [],
   "source": []
  },
  {
   "cell_type": "code",
   "execution_count": 92,
   "id": "12b388ae",
   "metadata": {},
   "outputs": [],
   "source": [
    "# Categorical columns\n",
    "categorical_columns = [\"Category\", \"Target_Gender\", \"Main_Color\", \"Main_Gem\", \"Main_Metal\"]\n",
    "categorical_columns_index = [columns.index(c) for c in categorical_columns]"
   ]
  },
  {
   "cell_type": "code",
   "execution_count": 93,
   "id": "bd4f8ae5",
   "metadata": {},
   "outputs": [
    {
     "data": {
      "text/plain": [
       "[0, 2, 3, 5, 4]"
      ]
     },
     "execution_count": 93,
     "metadata": {},
     "output_type": "execute_result"
    }
   ],
   "source": [
    "categorical_columns_index"
   ]
  },
  {
   "cell_type": "code",
   "execution_count": null,
   "id": "c2ab623b",
   "metadata": {},
   "outputs": [],
   "source": []
  },
  {
   "cell_type": "code",
   "execution_count": 111,
   "id": "d9d31a39",
   "metadata": {},
   "outputs": [
    {
     "ename": "NameError",
     "evalue": "name 'generate_pipeline' is not defined",
     "output_type": "error",
     "traceback": [
      "\u001b[1;31m---------------------------------------------------------------------------\u001b[0m",
      "\u001b[1;31mNameError\u001b[0m                                 Traceback (most recent call last)",
      "Cell \u001b[1;32mIn[111], line 1\u001b[0m\n\u001b[1;32m----> 1\u001b[0m cat_pipe \u001b[38;5;241m=\u001b[39m generate_pipeline(\n\u001b[0;32m      2\u001b[0m     CatBoostRegressor(loss_function\u001b[38;5;241m=\u001b[39m\u001b[38;5;124m\"\u001b[39m\u001b[38;5;124mRMSE\u001b[39m\u001b[38;5;124m\"\u001b[39m, iterations\u001b[38;5;241m=\u001b[39m\u001b[38;5;241m10000\u001b[39m, learning_rate\u001b[38;5;241m=\u001b[39m\u001b[38;5;241m0.1\u001b[39m, one_hot_max_size\u001b[38;5;241m=\u001b[39m\u001b[38;5;241m2\u001b[39m),\n\u001b[0;32m      3\u001b[0m     column_indices,\n\u001b[0;32m      4\u001b[0m     categorical_indices,\n\u001b[0;32m      5\u001b[0m     fill_missing\u001b[38;5;241m=\u001b[39m\u001b[38;5;28;01mFalse\u001b[39;00m, one_hot\u001b[38;5;241m=\u001b[39m\u001b[38;5;28;01mFalse\u001b[39;00m, label_encode\u001b[38;5;241m=\u001b[39m\u001b[38;5;28;01mTrue\u001b[39;00m\n\u001b[0;32m      6\u001b[0m )\n",
      "\u001b[1;31mNameError\u001b[0m: name 'generate_pipeline' is not defined"
     ]
    }
   ],
   "source": [
    "cat_pipe = generate_pipeline(\n",
    "    CatBoostRegressor(loss_function=\"RMSE\", iterations=10000, learning_rate=0.1, one_hot_max_size=2),\n",
    "    column_indices,\n",
    "    categorical_indices,\n",
    "    fill_missing=False, one_hot=False, label_encode=True\n",
    ")\n"
   ]
  },
  {
   "cell_type": "code",
   "execution_count": null,
   "id": "618bcc46",
   "metadata": {},
   "outputs": [],
   "source": []
  },
  {
   "cell_type": "code",
   "execution_count": null,
   "id": "f33c086a",
   "metadata": {},
   "outputs": [],
   "source": []
  },
  {
   "cell_type": "code",
   "execution_count": null,
   "id": "056f846f",
   "metadata": {},
   "outputs": [],
   "source": []
  },
  {
   "cell_type": "code",
   "execution_count": null,
   "id": "21947f00",
   "metadata": {},
   "outputs": [],
   "source": []
  },
  {
   "cell_type": "code",
   "execution_count": 108,
   "id": "0a18e90f",
   "metadata": {},
   "outputs": [],
   "source": [
    "from sklearn.preprocessing import PowerTransformer\n",
    "from sklearn.compose import TransformedTargetRegressor\n",
    "from sklearn.preprocessing import PowerTransformer\n"
   ]
  },
  {
   "cell_type": "code",
   "execution_count": 110,
   "id": "a502470d",
   "metadata": {},
   "outputs": [
    {
     "ename": "NameError",
     "evalue": "name 'generate_pipeline' is not defined",
     "output_type": "error",
     "traceback": [
      "\u001b[1;31m---------------------------------------------------------------------------\u001b[0m",
      "\u001b[1;31mNameError\u001b[0m                                 Traceback (most recent call last)",
      "Cell \u001b[1;32mIn[110], line 1\u001b[0m\n\u001b[1;32m----> 1\u001b[0m cat_pipe \u001b[38;5;241m=\u001b[39m generate_pipeline(cat_pipe, column_indices, categorical_indices, fill_missing\u001b[38;5;241m=\u001b[39m\u001b[38;5;28;01mTrue\u001b[39;00m, one_hot\u001b[38;5;241m=\u001b[39m\u001b[38;5;28;01mFalse\u001b[39;00m, label_encode\u001b[38;5;241m=\u001b[39m\u001b[38;5;28;01mTrue\u001b[39;00m)\n\u001b[0;32m      2\u001b[0m lin_pipe \u001b[38;5;241m=\u001b[39m generate_pipeline(lin_pipe, column_indices, categorical_indices, fill_missing\u001b[38;5;241m=\u001b[39m\u001b[38;5;28;01mTrue\u001b[39;00m, one_hot\u001b[38;5;241m=\u001b[39m\u001b[38;5;28;01mFalse\u001b[39;00m, label_encode\u001b[38;5;241m=\u001b[39m\u001b[38;5;28;01mTrue\u001b[39;00m)\n\u001b[0;32m      3\u001b[0m ada_pipe \u001b[38;5;241m=\u001b[39m generate_pipeline(ada_pipe, column_indices, categorical_indices, fill_missing\u001b[38;5;241m=\u001b[39m\u001b[38;5;28;01mTrue\u001b[39;00m, one_hot\u001b[38;5;241m=\u001b[39m\u001b[38;5;28;01mFalse\u001b[39;00m, label_encode\u001b[38;5;241m=\u001b[39m\u001b[38;5;28;01mTrue\u001b[39;00m)\n",
      "\u001b[1;31mNameError\u001b[0m: name 'generate_pipeline' is not defined"
     ]
    }
   ],
   "source": [
    "cat_pipe = generate_pipeline(cat_pipe, column_indices, categorical_indices, fill_missing=True, one_hot=False, label_encode=True)\n",
    "lin_pipe = generate_pipeline(lin_pipe, column_indices, categorical_indices, fill_missing=True, one_hot=False, label_encode=True)\n",
    "ada_pipe = generate_pipeline(ada_pipe, column_indices, categorical_indices, fill_missing=True, one_hot=False, label_encode=True)\n",
    "extra_pipe = generate_pipeline(extra_pipe, column_indices, categorical_indices, fill_missing=True, one_hot=False, label_encode=True)"
   ]
  },
  {
   "cell_type": "code",
   "execution_count": 109,
   "id": "efcb8554",
   "metadata": {},
   "outputs": [
    {
     "ename": "SyntaxError",
     "evalue": "unmatched ')' (538457398.py, line 1)",
     "output_type": "error",
     "traceback": [
      "\u001b[1;36m  Cell \u001b[1;32mIn[109], line 1\u001b[1;36m\u001b[0m\n\u001b[1;33m    cat_pipe, column_indices, categorical_indices, fill_missing=True, one_hot=False, label_encode=True)\u001b[0m\n\u001b[1;37m                                                                                                      ^\u001b[0m\n\u001b[1;31mSyntaxError\u001b[0m\u001b[1;31m:\u001b[0m unmatched ')'\n"
     ]
    }
   ],
   "source": [
    "cat_pipe, column_indices, categorical_indices, fill_missing=True, one_hot=False, label_encode=True)\n",
    "lin_pipe = generate_pipeline(lin_pipe, column_indices, categorical_indices, fill_missing=True, one_hot=False, label_encode=True)\n",
    "ada_pipe = generate_pipeline(ada_pipe, column_indices, categorical_indices, fill_missing=True, one_hot=False, label_encode=True)\n",
    "extra_pipe = generate_pipeline(extra_pipe, column_indices, categorical_indices, fill_missing=True, one_hot=False, label_encode=True)"
   ]
  },
  {
   "cell_type": "code",
   "execution_count": 105,
   "id": "07e18103",
   "metadata": {},
   "outputs": [],
   "source": [
    "# Transform target for all model pipelines\n",
    "cat_pipe = TransformedTargetRegressor(regressor = cat_pipe, transformer = PowerTransformer(method = \"box-cox\"))\n",
    "linear_pipe = TransformedTargetRegressor(regressor = linear_pipe, transformer = PowerTransformer(method = \"box-cox\"))\n",
    "extra_pipe = TransformedTargetRegressor(regressor = extra_pipe, transformer = PowerTransformer(method = \"box-cox\"))\n",
    "ada_pipe = TransformedTargetRegressor(regressor = ada_pipe, transformer = PowerTransformer(method = \"box-cox\"))"
   ]
  },
  {
   "cell_type": "code",
   "execution_count": 106,
   "id": "3112e69a",
   "metadata": {},
   "outputs": [
    {
     "ename": "ValueError",
     "evalue": "Input y contains NaN.",
     "output_type": "error",
     "traceback": [
      "\u001b[1;31m---------------------------------------------------------------------------\u001b[0m",
      "\u001b[1;31mValueError\u001b[0m                                Traceback (most recent call last)",
      "Cell \u001b[1;32mIn[106], line 1\u001b[0m\n\u001b[1;32m----> 1\u001b[0m cat_pipe\u001b[38;5;241m.\u001b[39mfit(X_train, y_train)\n",
      "File \u001b[1;32m~\\anaconda3\\Lib\\site-packages\\sklearn\\base.py:1151\u001b[0m, in \u001b[0;36m_fit_context.<locals>.decorator.<locals>.wrapper\u001b[1;34m(estimator, *args, **kwargs)\u001b[0m\n\u001b[0;32m   1144\u001b[0m     estimator\u001b[38;5;241m.\u001b[39m_validate_params()\n\u001b[0;32m   1146\u001b[0m \u001b[38;5;28;01mwith\u001b[39;00m config_context(\n\u001b[0;32m   1147\u001b[0m     skip_parameter_validation\u001b[38;5;241m=\u001b[39m(\n\u001b[0;32m   1148\u001b[0m         prefer_skip_nested_validation \u001b[38;5;129;01mor\u001b[39;00m global_skip_validation\n\u001b[0;32m   1149\u001b[0m     )\n\u001b[0;32m   1150\u001b[0m ):\n\u001b[1;32m-> 1151\u001b[0m     \u001b[38;5;28;01mreturn\u001b[39;00m fit_method(estimator, \u001b[38;5;241m*\u001b[39margs, \u001b[38;5;241m*\u001b[39m\u001b[38;5;241m*\u001b[39mkwargs)\n",
      "File \u001b[1;32m~\\anaconda3\\Lib\\site-packages\\sklearn\\compose\\_target.py:230\u001b[0m, in \u001b[0;36mTransformedTargetRegressor.fit\u001b[1;34m(self, X, y, **fit_params)\u001b[0m\n\u001b[0;32m    225\u001b[0m \u001b[38;5;28;01mif\u001b[39;00m y \u001b[38;5;129;01mis\u001b[39;00m \u001b[38;5;28;01mNone\u001b[39;00m:\n\u001b[0;32m    226\u001b[0m     \u001b[38;5;28;01mraise\u001b[39;00m \u001b[38;5;167;01mValueError\u001b[39;00m(\n\u001b[0;32m    227\u001b[0m         \u001b[38;5;124mf\u001b[39m\u001b[38;5;124m\"\u001b[39m\u001b[38;5;124mThis \u001b[39m\u001b[38;5;132;01m{\u001b[39;00m\u001b[38;5;28mself\u001b[39m\u001b[38;5;241m.\u001b[39m\u001b[38;5;18m__class__\u001b[39m\u001b[38;5;241m.\u001b[39m\u001b[38;5;18m__name__\u001b[39m\u001b[38;5;132;01m}\u001b[39;00m\u001b[38;5;124m estimator \u001b[39m\u001b[38;5;124m\"\u001b[39m\n\u001b[0;32m    228\u001b[0m         \u001b[38;5;124m\"\u001b[39m\u001b[38;5;124mrequires y to be passed, but the target y is None.\u001b[39m\u001b[38;5;124m\"\u001b[39m\n\u001b[0;32m    229\u001b[0m     )\n\u001b[1;32m--> 230\u001b[0m y \u001b[38;5;241m=\u001b[39m check_array(\n\u001b[0;32m    231\u001b[0m     y,\n\u001b[0;32m    232\u001b[0m     input_name\u001b[38;5;241m=\u001b[39m\u001b[38;5;124m\"\u001b[39m\u001b[38;5;124my\u001b[39m\u001b[38;5;124m\"\u001b[39m,\n\u001b[0;32m    233\u001b[0m     accept_sparse\u001b[38;5;241m=\u001b[39m\u001b[38;5;28;01mFalse\u001b[39;00m,\n\u001b[0;32m    234\u001b[0m     force_all_finite\u001b[38;5;241m=\u001b[39m\u001b[38;5;28;01mTrue\u001b[39;00m,\n\u001b[0;32m    235\u001b[0m     ensure_2d\u001b[38;5;241m=\u001b[39m\u001b[38;5;28;01mFalse\u001b[39;00m,\n\u001b[0;32m    236\u001b[0m     dtype\u001b[38;5;241m=\u001b[39m\u001b[38;5;124m\"\u001b[39m\u001b[38;5;124mnumeric\u001b[39m\u001b[38;5;124m\"\u001b[39m,\n\u001b[0;32m    237\u001b[0m     allow_nd\u001b[38;5;241m=\u001b[39m\u001b[38;5;28;01mTrue\u001b[39;00m,\n\u001b[0;32m    238\u001b[0m )\n\u001b[0;32m    240\u001b[0m \u001b[38;5;66;03m# store the number of dimension of the target to predict an array of\u001b[39;00m\n\u001b[0;32m    241\u001b[0m \u001b[38;5;66;03m# similar shape at predict\u001b[39;00m\n\u001b[0;32m    242\u001b[0m \u001b[38;5;28mself\u001b[39m\u001b[38;5;241m.\u001b[39m_training_dim \u001b[38;5;241m=\u001b[39m y\u001b[38;5;241m.\u001b[39mndim\n",
      "File \u001b[1;32m~\\anaconda3\\Lib\\site-packages\\sklearn\\utils\\validation.py:959\u001b[0m, in \u001b[0;36mcheck_array\u001b[1;34m(array, accept_sparse, accept_large_sparse, dtype, order, copy, force_all_finite, ensure_2d, allow_nd, ensure_min_samples, ensure_min_features, estimator, input_name)\u001b[0m\n\u001b[0;32m    953\u001b[0m         \u001b[38;5;28;01mraise\u001b[39;00m \u001b[38;5;167;01mValueError\u001b[39;00m(\n\u001b[0;32m    954\u001b[0m             \u001b[38;5;124m\"\u001b[39m\u001b[38;5;124mFound array with dim \u001b[39m\u001b[38;5;132;01m%d\u001b[39;00m\u001b[38;5;124m. \u001b[39m\u001b[38;5;132;01m%s\u001b[39;00m\u001b[38;5;124m expected <= 2.\u001b[39m\u001b[38;5;124m\"\u001b[39m\n\u001b[0;32m    955\u001b[0m             \u001b[38;5;241m%\u001b[39m (array\u001b[38;5;241m.\u001b[39mndim, estimator_name)\n\u001b[0;32m    956\u001b[0m         )\n\u001b[0;32m    958\u001b[0m     \u001b[38;5;28;01mif\u001b[39;00m force_all_finite:\n\u001b[1;32m--> 959\u001b[0m         _assert_all_finite(\n\u001b[0;32m    960\u001b[0m             array,\n\u001b[0;32m    961\u001b[0m             input_name\u001b[38;5;241m=\u001b[39minput_name,\n\u001b[0;32m    962\u001b[0m             estimator_name\u001b[38;5;241m=\u001b[39mestimator_name,\n\u001b[0;32m    963\u001b[0m             allow_nan\u001b[38;5;241m=\u001b[39mforce_all_finite \u001b[38;5;241m==\u001b[39m \u001b[38;5;124m\"\u001b[39m\u001b[38;5;124mallow-nan\u001b[39m\u001b[38;5;124m\"\u001b[39m,\n\u001b[0;32m    964\u001b[0m         )\n\u001b[0;32m    966\u001b[0m \u001b[38;5;28;01mif\u001b[39;00m ensure_min_samples \u001b[38;5;241m>\u001b[39m \u001b[38;5;241m0\u001b[39m:\n\u001b[0;32m    967\u001b[0m     n_samples \u001b[38;5;241m=\u001b[39m _num_samples(array)\n",
      "File \u001b[1;32m~\\anaconda3\\Lib\\site-packages\\sklearn\\utils\\validation.py:124\u001b[0m, in \u001b[0;36m_assert_all_finite\u001b[1;34m(X, allow_nan, msg_dtype, estimator_name, input_name)\u001b[0m\n\u001b[0;32m    121\u001b[0m \u001b[38;5;28;01mif\u001b[39;00m first_pass_isfinite:\n\u001b[0;32m    122\u001b[0m     \u001b[38;5;28;01mreturn\u001b[39;00m\n\u001b[1;32m--> 124\u001b[0m _assert_all_finite_element_wise(\n\u001b[0;32m    125\u001b[0m     X,\n\u001b[0;32m    126\u001b[0m     xp\u001b[38;5;241m=\u001b[39mxp,\n\u001b[0;32m    127\u001b[0m     allow_nan\u001b[38;5;241m=\u001b[39mallow_nan,\n\u001b[0;32m    128\u001b[0m     msg_dtype\u001b[38;5;241m=\u001b[39mmsg_dtype,\n\u001b[0;32m    129\u001b[0m     estimator_name\u001b[38;5;241m=\u001b[39mestimator_name,\n\u001b[0;32m    130\u001b[0m     input_name\u001b[38;5;241m=\u001b[39minput_name,\n\u001b[0;32m    131\u001b[0m )\n",
      "File \u001b[1;32m~\\anaconda3\\Lib\\site-packages\\sklearn\\utils\\validation.py:173\u001b[0m, in \u001b[0;36m_assert_all_finite_element_wise\u001b[1;34m(X, xp, allow_nan, msg_dtype, estimator_name, input_name)\u001b[0m\n\u001b[0;32m    156\u001b[0m \u001b[38;5;28;01mif\u001b[39;00m estimator_name \u001b[38;5;129;01mand\u001b[39;00m input_name \u001b[38;5;241m==\u001b[39m \u001b[38;5;124m\"\u001b[39m\u001b[38;5;124mX\u001b[39m\u001b[38;5;124m\"\u001b[39m \u001b[38;5;129;01mand\u001b[39;00m has_nan_error:\n\u001b[0;32m    157\u001b[0m     \u001b[38;5;66;03m# Improve the error message on how to handle missing values in\u001b[39;00m\n\u001b[0;32m    158\u001b[0m     \u001b[38;5;66;03m# scikit-learn.\u001b[39;00m\n\u001b[0;32m    159\u001b[0m     msg_err \u001b[38;5;241m+\u001b[39m\u001b[38;5;241m=\u001b[39m (\n\u001b[0;32m    160\u001b[0m         \u001b[38;5;124mf\u001b[39m\u001b[38;5;124m\"\u001b[39m\u001b[38;5;130;01m\\n\u001b[39;00m\u001b[38;5;132;01m{\u001b[39;00mestimator_name\u001b[38;5;132;01m}\u001b[39;00m\u001b[38;5;124m does not accept missing values\u001b[39m\u001b[38;5;124m\"\u001b[39m\n\u001b[0;32m    161\u001b[0m         \u001b[38;5;124m\"\u001b[39m\u001b[38;5;124m encoded as NaN natively. For supervised learning, you might want\u001b[39m\u001b[38;5;124m\"\u001b[39m\n\u001b[1;32m   (...)\u001b[0m\n\u001b[0;32m    171\u001b[0m         \u001b[38;5;124m\"\u001b[39m\u001b[38;5;124m#estimators-that-handle-nan-values\u001b[39m\u001b[38;5;124m\"\u001b[39m\n\u001b[0;32m    172\u001b[0m     )\n\u001b[1;32m--> 173\u001b[0m \u001b[38;5;28;01mraise\u001b[39;00m \u001b[38;5;167;01mValueError\u001b[39;00m(msg_err)\n",
      "\u001b[1;31mValueError\u001b[0m: Input y contains NaN."
     ]
    }
   ],
   "source": [
    "cat_pipe.fit(X_train, y_train)"
   ]
  },
  {
   "cell_type": "code",
   "execution_count": null,
   "id": "e50ef005",
   "metadata": {},
   "outputs": [],
   "source": []
  }
 ],
 "metadata": {
  "kernelspec": {
   "display_name": "Python 3 (ipykernel)",
   "language": "python",
   "name": "python3"
  },
  "language_info": {
   "codemirror_mode": {
    "name": "ipython",
    "version": 3
   },
   "file_extension": ".py",
   "mimetype": "text/x-python",
   "name": "python",
   "nbconvert_exporter": "python",
   "pygments_lexer": "ipython3",
   "version": "3.11.5"
  }
 },
 "nbformat": 4,
 "nbformat_minor": 5
}
